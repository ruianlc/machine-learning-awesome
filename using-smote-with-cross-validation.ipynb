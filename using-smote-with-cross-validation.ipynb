{
 "cells": [
  {
   "cell_type": "markdown",
   "metadata": {},
   "source": [
    "<font size=8>The right way of using Smot with Cross-validation</font>"
   ]
  },
  {
   "cell_type": "markdown",
   "metadata": {},
   "source": [
    "关键词：**Smote**, **Imbalanced Sample**, **Cross-validation**, **stratified_kfold**, **Pipeline**\n",
    "\n",
    "参考文献：\n",
    "\n",
    "1.https://towardsdatascience.com/the-right-way-of-using-smote-with-cross-validation-92a8d09d00c7"
   ]
  },
  {
   "cell_type": "markdown",
   "metadata": {},
   "source": [
    "导入包："
   ]
  },
  {
   "cell_type": "code",
   "execution_count": 17,
   "metadata": {},
   "outputs": [],
   "source": [
    "import numpy as np\n",
    "import pandas as pd\n",
    "import matplotlib.pyplot as plt\n",
    "\n",
    "from sklearn.linear_model import LogisticRegression\n",
    "from sklearn.model_selection import train_test_split, GridSearchCV, StratifiedKFold\n",
    "from sklearn.metrics import make_scorer, accuracy_score\n",
    "from sklearn.preprocessing import MinMaxScaler\n",
    "\n",
    "from imblearn.over_sampling import SMOTE\n",
    "from imblearn.pipeline import Pipeline as imbpipeline\n",
    "\n",
    "from sklearn.datasets import load_breast_cancer\n"
   ]
  },
  {
   "cell_type": "markdown",
   "metadata": {},
   "source": [
    "定义全局变量与常量："
   ]
  },
  {
   "cell_type": "code",
   "execution_count": 18,
   "metadata": {},
   "outputs": [],
   "source": [
    "random_state=42\n",
    "\n",
    "cv_skf = StratifiedKFold(n_splits=5,\n",
    "                         shuffle=True,\n",
    "                         random_state=random_state)\n",
    "\n",
    "scoring_aucc = {'AUC': 'roc_auc', 'Accuracy':make_scorer(accuracy_score)}\n"
   ]
  },
  {
   "cell_type": "markdown",
   "metadata": {},
   "source": [
    "数据集准备："
   ]
  },
  {
   "cell_type": "code",
   "execution_count": 19,
   "metadata": {},
   "outputs": [],
   "source": [
    "df = load_breast_cancer()"
   ]
  },
  {
   "cell_type": "code",
   "execution_count": 20,
   "metadata": {},
   "outputs": [],
   "source": [
    "x = df['data'].copy()\n",
    "y = df['target'].copy()\n",
    "label_decoder = {\n",
    "    0: 'Sky',\n",
    "    1: 'Grass',\n",
    "}\n",
    "\n",
    "x_train, x_test, y_train, y_test = train_test_split(x,\n",
    "                                                    y,\n",
    "                                                    test_size=0.2,\n",
    "                                                    stratify=y,\n",
    "                                                    random_state=random_state\n",
    "                                                    )"
   ]
  },
  {
   "cell_type": "markdown",
   "metadata": {},
   "source": [
    "观察样本是否均衡："
   ]
  },
  {
   "cell_type": "code",
   "execution_count": 21,
   "metadata": {},
   "outputs": [],
   "source": [
    "# target_counts = y_train.value_counts()\n",
    "unique, counts = np.unique(y_train, return_counts=True)\n",
    "target_counts = dict(zip(unique, counts))"
   ]
  },
  {
   "cell_type": "code",
   "execution_count": 23,
   "metadata": {},
   "outputs": [
    {
     "name": "stdout",
     "output_type": "stream",
     "text": [
      "Class : Sky, Count : 170\n",
      "Class : Grass, Count : 285\n"
     ]
    }
   ],
   "source": [
    "for key, val in target_counts.items():\n",
    "    print(f\"Class : {label_decoder[key]}, Count : {val}\")"
   ]
  },
  {
   "cell_type": "markdown",
   "metadata": {},
   "source": [
    "模型训练："
   ]
  },
  {
   "cell_type": "code",
   "execution_count": null,
   "metadata": {},
   "outputs": [],
   "source": [
    "classifier = LogisticRegression(random_state=random_state, max_iter=1000)\n",
    "pipeline = imbpipeline(steps=[['smote', SMOTE(random_state=random_state)],\n",
    "                              ['scalar', MinMaxScaler()],\n",
    "                              ['classifier', classifier]])\n",
    "\n",
    "\n",
    "param_grid = {\n",
    "    'classifier__C': [0.001, 0.01, 0.1, 1, 10, 100, 1000],\n",
    "}\n",
    "\n",
    "grid_search = GridSearchCV(estimator=pipeline,\n",
    "                           param_grid=param_grid,\n",
    "                           cv=cv_skf,\n",
    "                           scoring=scoring_aucc,\n",
    "                           refit='AUC',\n",
    "                           n_jobs=-1)\n",
    "\n",
    "grid_search.fit(x_train, y_train)\n",
    "cv_score = grid_search.best_score_\n",
    "\n",
    "test_score = grid_search.score(x_test, y_test)\n",
    "\n",
    "\n",
    "print(f'Cross-validation score: {cv_score}\\nTest score: {test_score}')\n"
   ]
  }
 ],
 "metadata": {
  "interpreter": {
   "hash": "88279d2366fe020547cde40dd65aa0e3aa662a6ec1f3ca12d88834876c85e1a6"
  },
  "kernelspec": {
   "display_name": "Python 3.8.8 ('base')",
   "language": "python",
   "name": "python3"
  },
  "language_info": {
   "codemirror_mode": {
    "name": "ipython",
    "version": 3
   },
   "file_extension": ".py",
   "mimetype": "text/x-python",
   "name": "python",
   "nbconvert_exporter": "python",
   "pygments_lexer": "ipython3",
   "version": "3.8.8"
  },
  "orig_nbformat": 4
 },
 "nbformat": 4,
 "nbformat_minor": 2
}
