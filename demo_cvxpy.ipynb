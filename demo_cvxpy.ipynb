{
 "cells": [
  {
   "cell_type": "markdown",
   "metadata": {},
   "source": [
    "## 2022.07.15"
   ]
  },
  {
   "cell_type": "markdown",
   "metadata": {},
   "source": [
    "导入依赖包："
   ]
  },
  {
   "cell_type": "code",
   "execution_count": 1,
   "metadata": {},
   "outputs": [],
   "source": [
    "import numpy as np\n",
    "import cvxpy as cp"
   ]
  },
  {
   "cell_type": "markdown",
   "metadata": {},
   "source": [
    "定义数据："
   ]
  },
  {
   "cell_type": "code",
   "execution_count": 2,
   "metadata": {},
   "outputs": [],
   "source": [
    "# Problem data.\n",
    "m = 30\n",
    "n = 20\n",
    "np.random.seed(1)\n",
    "A = np.random.randn(m, n)\n",
    "b = np.random.randn(m)"
   ]
  },
  {
   "cell_type": "markdown",
   "metadata": {},
   "source": [
    "定义优化问题："
   ]
  },
  {
   "cell_type": "code",
   "execution_count": 3,
   "metadata": {},
   "outputs": [],
   "source": [
    "x = cp.Variable(n)\n",
    "\n",
    "# 目标\n",
    "objective = cp.Minimize(cp.sum_squares(A @ x - b))\n",
    "\n",
    "# 约束\n",
    "constraints = [0 <= x, x <= 1]\n",
    "\n",
    "prob = cp.Problem(objective, constraints)"
   ]
  },
  {
   "cell_type": "markdown",
   "metadata": {},
   "source": [
    "问题求解："
   ]
  },
  {
   "cell_type": "code",
   "execution_count": 4,
   "metadata": {},
   "outputs": [],
   "source": [
    "# The optimal objective is returned by prob.solve().\n",
    "result = prob.solve()"
   ]
  },
  {
   "cell_type": "markdown",
   "metadata": {},
   "source": [
    "获取优化结果："
   ]
  },
  {
   "cell_type": "code",
   "execution_count": 5,
   "metadata": {},
   "outputs": [
    {
     "name": "stdout",
     "output_type": "stream",
     "text": [
      "[-1.79109255e-19  2.85112420e-02  2.79973443e-19  3.37658729e-20\n",
      " -2.72802663e-19  1.49285011e-01 -9.94082533e-20  8.35373900e-20\n",
      "  2.46718649e-01  5.78224144e-01 -4.03739463e-19  1.01242860e-03\n",
      " -9.28486180e-20  2.26767464e-01 -1.58813678e-19 -8.97232272e-20\n",
      " -1.22145729e-19 -1.51509428e-19  1.12060672e-19 -3.48318635e-19]\n",
      "[ 2.50938945  0.          2.78354615  1.79425782 13.08579183  0.\n",
      "  0.73716363  3.35344995  0.          0.          8.93825054  0.\n",
      "  7.02955161  0.          4.71068649  3.18873635  2.06090107 10.08166738\n",
      "  3.0481157   8.53268239]\n"
     ]
    }
   ],
   "source": [
    "# The optimal value for x is stored in x.value.\n",
    "print(x.value)\n",
    "# The optimal Lagrange multiplier for a constraint\n",
    "# is stored in constraint.dual_value.\n",
    "print(constraints[0].dual_value)"
   ]
  },
  {
   "cell_type": "markdown",
   "metadata": {},
   "source": [
    "## 2022.07.17"
   ]
  },
  {
   "cell_type": "markdown",
   "metadata": {},
   "source": [
    "### 约束几何规划"
   ]
  },
  {
   "cell_type": "markdown",
   "metadata": {},
   "source": [
    "导入依赖包："
   ]
  },
  {
   "cell_type": "code",
   "execution_count": 6,
   "metadata": {},
   "outputs": [],
   "source": [
    "import cvxpy as cp"
   ]
  },
  {
   "cell_type": "markdown",
   "metadata": {},
   "source": [
    "定义优化问题："
   ]
  },
  {
   "cell_type": "code",
   "execution_count": 7,
   "metadata": {},
   "outputs": [],
   "source": [
    "x = cp.Variable(pos=True)\n",
    "y = cp.Variable(pos=True)\n",
    "z = cp.Variable(pos=True)\n",
    "\n",
    "\n",
    "# 目标\n",
    "objective = cp.Maximize(x * y * z)\n",
    "\n",
    "# 约束\n",
    "constraints = [\n",
    "    4 * x * y * z + 2 * x * z <= 10,\n",
    "    x <= 2*y,\n",
    "    y <= 2*x,\n",
    "    z >= 1,\n",
    "]\n",
    "\n",
    "problem = cp.Problem(objective, constraints)"
   ]
  },
  {
   "cell_type": "markdown",
   "metadata": {},
   "source": [
    "问题求解："
   ]
  },
  {
   "cell_type": "code",
   "execution_count": 9,
   "metadata": {},
   "outputs": [
    {
     "data": {
      "text/plain": [
       "1.9999999938309496"
      ]
     },
     "execution_count": 9,
     "metadata": {},
     "output_type": "execute_result"
    }
   ],
   "source": [
    "# The optimal objective is returned by prob.solve().\n",
    "problem.solve(gp=True)"
   ]
  },
  {
   "cell_type": "markdown",
   "metadata": {},
   "source": [
    "获取优化结果："
   ]
  },
  {
   "cell_type": "code",
   "execution_count": 10,
   "metadata": {},
   "outputs": [
    {
     "name": "stdout",
     "output_type": "stream",
     "text": [
      "Optimal value:  1.9999999938309496\n",
      "x:  0.9999999989682057\n",
      "y:  1.999999974180587\n",
      "z:  1.0000000108569758\n"
     ]
    }
   ],
   "source": [
    "print(\"Optimal value: \", problem.value)\n",
    "print(\"x: \", x.value)\n",
    "print(\"y: \", y.value)\n",
    "print(\"z: \", z.value)"
   ]
  },
  {
   "cell_type": "markdown",
   "metadata": {},
   "source": [
    "### 约束反凸规划"
   ]
  },
  {
   "cell_type": "markdown",
   "metadata": {},
   "source": [
    "导入依赖包："
   ]
  },
  {
   "cell_type": "code",
   "execution_count": 11,
   "metadata": {},
   "outputs": [],
   "source": [
    "import cvxpy as cp"
   ]
  },
  {
   "cell_type": "markdown",
   "metadata": {},
   "source": [
    "定义优化问题："
   ]
  },
  {
   "cell_type": "code",
   "execution_count": 12,
   "metadata": {},
   "outputs": [],
   "source": [
    "x = cp.Variable()\n",
    "y = cp.Variable(pos=True)\n",
    "objective_fn = -cp.sqrt(x) / y\n",
    "problem = cp.Problem(cp.Minimize(objective_fn), [cp.exp(x) <= y])"
   ]
  },
  {
   "cell_type": "markdown",
   "metadata": {},
   "source": [
    "问题求解："
   ]
  },
  {
   "cell_type": "code",
   "execution_count": 13,
   "metadata": {},
   "outputs": [],
   "source": [
    "# The optimal objective is returned by prob.solve().\n",
    "problem.solve(qcp=True)\n",
    "assert problem.is_dqcp()"
   ]
  },
  {
   "cell_type": "markdown",
   "metadata": {},
   "source": [
    "获取优化结果："
   ]
  },
  {
   "cell_type": "code",
   "execution_count": 14,
   "metadata": {},
   "outputs": [
    {
     "name": "stdout",
     "output_type": "stream",
     "text": [
      "Optimal value:  -0.4288817375157048\n",
      "x:  0.49999737143004713\n",
      "y:  1.648717724845007\n"
     ]
    }
   ],
   "source": [
    "print(\"Optimal value: \", problem.value)\n",
    "print(\"x: \", x.value)\n",
    "print(\"y: \", y.value)"
   ]
  },
  {
   "cell_type": "markdown",
   "metadata": {},
   "source": [
    "## 2022.07.18"
   ]
  },
  {
   "cell_type": "markdown",
   "metadata": {},
   "source": [
    "### 约束矩阵求解"
   ]
  },
  {
   "cell_type": "markdown",
   "metadata": {},
   "source": [
    "导入依赖包："
   ]
  },
  {
   "cell_type": "code",
   "execution_count": null,
   "metadata": {},
   "outputs": [],
   "source": [
    "import cvxpy as cp"
   ]
  },
  {
   "cell_type": "markdown",
   "metadata": {},
   "source": [
    "定义优化问题："
   ]
  },
  {
   "cell_type": "code",
   "execution_count": null,
   "metadata": {},
   "outputs": [],
   "source": [
    "input_array = np.array([4,5,6,5,11,7,20,18,20,21, 43, 37, 40, 23, 45, 39, 28, 12, 9, 16, 23, 34, 31])\n",
    "# test_arr = np.array([1,1,1,0,1,1,1,0,0,1])\n",
    "groups = 3\n",
    "\n",
    "# Matrix variable with shape (1, 5).\n",
    "x = cp.Variable((1, len(input_array)))\n",
    "\n",
    "\n",
    "# 目标\n",
    "objective = cp.Maximize(x * y * z)\n",
    "\n",
    "# 约束\n",
    "constraints = [\n",
    "    4 * x * y * z + 2 * x * z <= 10,\n",
    "    x <= 2*y,\n",
    "    y <= 2*x,\n",
    "    z >= 1,\n",
    "]\n",
    "\n",
    "problem = cp.Problem(objective, constraints)"
   ]
  },
  {
   "cell_type": "markdown",
   "metadata": {},
   "source": [
    "问题求解："
   ]
  },
  {
   "cell_type": "code",
   "execution_count": null,
   "metadata": {},
   "outputs": [
    {
     "data": {
      "text/plain": [
       "1.9999999938309496"
      ]
     },
     "metadata": {},
     "output_type": "display_data"
    }
   ],
   "source": [
    "# The optimal objective is returned by prob.solve().\n",
    "problem.solve(gp=True)"
   ]
  },
  {
   "cell_type": "markdown",
   "metadata": {},
   "source": [
    "获取优化结果："
   ]
  },
  {
   "cell_type": "code",
   "execution_count": null,
   "metadata": {},
   "outputs": [
    {
     "name": "stdout",
     "output_type": "stream",
     "text": [
      "Optimal value:  1.9999999938309496\n",
      "x:  0.9999999989682057\n",
      "y:  1.999999974180587\n",
      "z:  1.0000000108569758\n"
     ]
    }
   ],
   "source": [
    "print(\"Optimal value: \", problem.value)\n",
    "print(\"x: \", x.value)\n",
    "print(\"y: \", y.value)\n",
    "print(\"z: \", z.value)"
   ]
  },
  {
   "cell_type": "code",
   "execution_count": 20,
   "metadata": {},
   "outputs": [
    {
     "data": {
      "text/plain": [
       "(array([ 1.,  0.,  0.,  3., 10.,  7.,  2.,  1.,  0.,  1.]),\n",
       " array([-5.19933758e+00, -4.15947007e+00, -3.11960255e+00, -2.07973503e+00,\n",
       "        -1.03986752e+00,  4.89217555e-11,  1.03986752e+00,  2.07973503e+00,\n",
       "         3.11960255e+00,  4.15947007e+00,  5.19933758e+00]),\n",
       " <BarContainer object of 10 artists>)"
      ]
     },
     "execution_count": 20,
     "metadata": {},
     "output_type": "execute_result"
    },
    {
     "data": {
      "image/png": "[encoded data removed]",
      "text/plain": [
       "<Figure size 432x288 with 1 Axes>"
      ]
     },
     "metadata": {
      "needs_background": "light"
     },
     "output_type": "display_data"
    },
    {
     "data": {
      "image/png": "[encoded data removed]",
      "text/plain": [
       "<Figure size 432x288 with 1 Axes>"
      ]
     },
     "metadata": {
      "needs_background": "light"
     },
     "output_type": "display_data"
    }
   ],
   "source": [
    "import numpy as np\n",
    "import matplotlib.pyplot as plt\n",
    "from sklearn.preprocessing import QuantileTransformer\n",
    "\n",
    "rng = np.random.RandomState(0)\n",
    "X = np.sort(rng.normal(loc=0.5, scale=0.25, size=(25, 1)), axis=0)\n",
    "qt = QuantileTransformer(n_quantiles=10, output_distribution='normal', random_state=0)\n",
    "X_trans = qt.fit_transform(X)\n",
    "\n",
    "counts, bins = np.histogram(X)\n",
    "plt.figure()\n",
    "plt.hist(bins[:-1], bins, weights=counts)\n",
    "\n",
    "counts, bins = np.histogram(X_trans)\n",
    "plt.figure()\n",
    "plt.hist(bins[:-1], bins, weights=counts)"
   ]
  },
  {
   "cell_type": "markdown",
   "metadata": {},
   "source": [
    "两点连线："
   ]
  },
  {
   "cell_type": "code",
   "execution_count": 2,
   "metadata": {},
   "outputs": [
    {
     "name": "stdout",
     "output_type": "stream",
     "text": [
      "Line Solution is y = -0.5000000000000007x + 5.500000000000002\n"
     ]
    }
   ],
   "source": [
    "from numpy import ones,vstack\n",
    "from numpy.linalg import lstsq\n",
    "points = [(1,5),(3,4)]\n",
    "x_coords, y_coords = zip(*points)\n",
    "A = vstack([x_coords,ones(len(x_coords))]).T\n",
    "m, c = lstsq(A, y_coords,rcond=None)[0]\n",
    "print(\"Line Solution is y = {m}x + {c}\".format(m=m,c=c))"
   ]
  }
 ],
 "metadata": {
  "kernelspec": {
   "display_name": "Python 3.8.8 ('base')",
   "language": "python",
   "name": "python3"
  },
  "language_info": {
   "codemirror_mode": {
    "name": "ipython",
    "version": 3
   },
   "file_extension": ".py",
   "mimetype": "text/x-python",
   "name": "python",
   "nbconvert_exporter": "python",
   "pygments_lexer": "ipython3",
   "version": "3.8.8"
  },
  "orig_nbformat": 4,
  "vscode": {
   "interpreter": {
    "hash": "146de41bdd921a4e49b5430ed435984d2f3b4e3da25c2db8b0d474b5a0f67c6d"
   }
  }
 },
 "nbformat": 4,
 "nbformat_minor": 2
}
