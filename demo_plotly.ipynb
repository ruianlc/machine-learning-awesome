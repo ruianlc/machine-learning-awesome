{
 "cells": [
  {
   "cell_type": "markdown",
   "metadata": {},
   "source": [
    "## 导入依赖库"
   ]
  },
  {
   "cell_type": "code",
   "execution_count": null,
   "metadata": {},
   "outputs": [],
   "source": [
    "from plotly.subplots import make_subplots\n",
    "import plotly.graph_objects as go\n",
    "\n",
    "import plotly.io as pio\n",
    "pio.renderers.default='notebook'"
   ]
  },
  {
   "cell_type": "code",
   "execution_count": null,
   "metadata": {},
   "outputs": [],
   "source": [
    "\n",
    "\n",
    "def plot_macd(df):\n",
    "    fig = make_subplots(rows=2, cols=1)\n",
    "\n",
    "\n",
    "    fig.add_trace(\n",
    "        go.Scatter(\n",
    "            name='close price',\n",
    "            x=df['Date'],\n",
    "            y=df['close']\n",
    "        ),\n",
    "        row=1, col=1\n",
    "    )\n",
    "\n",
    "\n",
    "    fig.add_trace(\n",
    "        go.Scatter(\n",
    "            name='MACD Line',\n",
    "            x=df['Date'],\n",
    "            y=df['macd'],\n",
    "            marker=dict(\n",
    "                color='red'\n",
    "            )\n",
    "        ),\n",
    "        row=2, col=1\n",
    "    )\n",
    "    fig.add_trace(\n",
    "        go.Scatter(\n",
    "            name='Signal Line',\n",
    "            x=df['Date'],\n",
    "            y=df['signal'],\n",
    "            marker=dict(\n",
    "                color='green'\n",
    "            )\n",
    "        ),\n",
    "        row=2, col=1\n",
    "    )\n",
    "    fig.add_trace(\n",
    "        go.Bar(\n",
    "            name='hist',\n",
    "            x=df['Date'],\n",
    "            y=df['hist'],\n",
    "            marker=dict(\n",
    "                color = ['rgba(63, 195, 128, 1)' if v >0 else 'rgba(219, 10, 91, 1)' for v in df['hist']]\n",
    "            )\n",
    "        ),\n",
    "        row=2, col=1\n",
    "    )\n",
    "\n",
    "\n",
    "    fig.update_layout(height=600, width=800, title_text=\"MACD and Signal Line\")\n",
    "    fig.show()\n",
    "   \n",
    "\n",
    "\n",
    "plot_macd(df_macd)\n"
   ]
  }
 ],
 "metadata": {
  "kernelspec": {
   "display_name": "Python 3.9.13 ('base')",
   "language": "python",
   "name": "python3"
  },
  "language_info": {
   "codemirror_mode": {
    "name": "ipython",
    "version": 3
   },
   "file_extension": ".py",
   "mimetype": "text/x-python",
   "name": "python",
   "nbconvert_exporter": "python",
   "pygments_lexer": "ipython3",
   "version": "3.9.13"
  },
  "orig_nbformat": 4,
  "vscode": {
   "interpreter": {
    "hash": "e42634819b8c191a5d07eaf23810ff32516dd8d3875f28ec3e488928fbd3c187"
   }
  }
 },
 "nbformat": 4,
 "nbformat_minor": 2
}
