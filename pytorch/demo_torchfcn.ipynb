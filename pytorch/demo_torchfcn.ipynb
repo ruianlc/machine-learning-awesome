{
 "cells": [
  {
   "cell_type": "markdown",
   "metadata": {},
   "source": [
    "使用pytorch进行图像分割"
   ]
  },
  {
   "cell_type": "code",
   "execution_count": 16,
   "metadata": {},
   "outputs": [
    {
     "name": "stderr",
     "output_type": "stream",
     "text": [
      "Downloading: \"https://download.pytorch.org/models/fcn_resnet101_coco-7ecb50ca.pth\" to C:\\Users\\Administrator/.cache\\torch\\hub\\checkpoints\\fcn_resnet101_coco-7ecb50ca.pth\n",
      "100%|██████████| 208M/208M [00:25<00:00, 8.41MB/s] \n"
     ]
    },
    {
     "data": {
      "text/plain": [
       "<matplotlib.image.AxesImage at 0x1df891db4f0>"
      ]
     },
     "execution_count": 16,
     "metadata": {},
     "output_type": "execute_result"
    },
    {
     "data": {
      "image/png": "[encoded data removed]",
      "text/plain": [
       "<Figure size 432x288 with 1 Axes>"
      ]
     },
     "metadata": {
      "needs_background": "light"
     },
     "output_type": "display_data"
    }
   ],
   "source": [
    "import torch\n",
    "from PIL import Image\n",
    "from matplotlib import pyplot as plt\n",
    "from torchvision import transforms\n",
    "\n",
    "\n",
    "# %% 1、加载模型\n",
    "# # GitHub远程仓库加载\n",
    "# repo = 'pytorch/vision:0.11.0'\n",
    "# model_name = 'deeplabv3_resnet101'\n",
    "# model = torch.hub.load(repo, model_name, source='github', pretrained=True)\n",
    "\n",
    "# 本地模型加载\n",
    "path = r'C:\\Users\\Administrator\\.cache\\torch\\hub\\vision-0.11.0'\n",
    "model_name = 'fcn_resnet101'#'deeplabv3_resnet101'\n",
    "model = torch.hub.load(path, model_name, source='local', pretrained=True)\n",
    "\n",
    "model.eval()\n",
    "\n",
    "\n",
    "# %% 2、读取图像数据\n",
    "filename = 'deeplab2.png'\n",
    "input_image = Image.open(filename)\n",
    "input_image = input_image.convert(\"RGB\")\n",
    "plt.imshow(input_image)\n",
    "\n",
    "# %% 3、模型训练\n",
    "# sample execution (requires torchvision)\n",
    "preprocess = transforms.Compose([\n",
    "    transforms.ToTensor(),\n",
    "    transforms.Normalize(mean=[0.485, 0.456, 0.406], std=[0.229, 0.224, 0.225]),\n",
    "])\n",
    "\n",
    "input_tensor = preprocess(input_image)\n",
    "input_batch = input_tensor.unsqueeze(0) # create a mini-batch as expected by the model\n",
    "\n",
    "# move the input and model to GPU for speed if available\n",
    "if torch.cuda.is_available():\n",
    "    input_batch = input_batch.to('cuda')\n",
    "    model.to('cuda')\n",
    "\n",
    "with torch.no_grad():\n",
    "    output = model(input_batch)['out'][0]\n",
    "output_predictions = output.argmax(0)\n",
    "\n",
    "# %% 4、结果展示\n",
    "# create a color pallette, selecting a color for each class\n",
    "palette = torch.tensor([2 ** 25 - 1, 2 ** 15 - 1, 2 ** 21 - 1])\n",
    "colors = torch.as_tensor([i for i in range(21)])[:, None] * palette\n",
    "colors = (colors % 255).numpy().astype(\"uint8\")\n",
    "\n",
    "# plot the semantic segmentation predictions of 21 classes in each color\n",
    "r = Image.fromarray(output_predictions.byte().cpu().numpy()).resize(input_image.size)\n",
    "r.putpalette(colors)\n",
    "\n",
    "import matplotlib.pyplot as plt\n",
    "plt.imshow(r)\n",
    "# plt.show()\n"
   ]
  },
  {
   "cell_type": "code",
   "execution_count": 4,
   "metadata": {},
   "outputs": [],
   "source": [
    "# # Download an example image from the pytorch website\n",
    "# import urllib\n",
    "# url, filename = (\"https://github.com/pytorch/hub/raw/master/images/deeplab1.png\", \"deeplab1.png\")\n",
    "# try: urllib.URLopener().retrieve(url, filename)\n",
    "# except: urllib.request.urlretrieve(url, filename)\n"
   ]
  }
 ],
 "metadata": {
  "kernelspec": {
   "display_name": "Python 3.8.8 ('base')",
   "language": "python",
   "name": "python3"
  },
  "language_info": {
   "codemirror_mode": {
    "name": "ipython",
    "version": 3
   },
   "file_extension": ".py",
   "mimetype": "text/x-python",
   "name": "python",
   "nbconvert_exporter": "python",
   "pygments_lexer": "ipython3",
   "version": "3.8.8"
  },
  "orig_nbformat": 4,
  "vscode": {
   "interpreter": {
    "hash": "91f6a04488c6f6c893277af113acfe6c1e243656720881e8cb90c9c6953cd34f"
   }
  }
 },
 "nbformat": 4,
 "nbformat_minor": 2
}
