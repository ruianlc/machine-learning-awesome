{
 "cells": [
  {
   "cell_type": "markdown",
   "metadata": {},
   "source": [
    "使用pytorch搭建神经网络"
   ]
  },
  {
   "cell_type": "markdown",
   "metadata": {},
   "source": [
    "导入依赖库："
   ]
  },
  {
   "cell_type": "code",
   "execution_count": 1,
   "metadata": {},
   "outputs": [],
   "source": [
    "import torch as tch\n",
    "import torch.nn as nn\n",
    "import numpy as np\n",
    "from sklearn.datasets import make_blobs\n",
    "from matplotlib import pyplot as plt\n",
    "%matplotlib inline\n"
   ]
  },
  {
   "cell_type": "markdown",
   "metadata": {},
   "source": [
    "定义数据集："
   ]
  },
  {
   "cell_type": "code",
   "execution_count": 2,
   "metadata": {},
   "outputs": [
    {
     "name": "stdout",
     "output_type": "stream",
     "text": [
      "X_train.shape: torch.Size([4000, 64])\n",
      "x_test.shape: torch.Size([1000, 64])\n",
      "Y_train.shape: torch.Size([4000, 1])\n",
      "y_test.shape: torch.Size([1000, 1])\n",
      "X.dtype torch.float32\n",
      "y.dtype torch.float32\n"
     ]
    }
   ],
   "source": [
    "samples = 5000\n",
    "#Let's divide the toy dataset into training (80%) and rest for validation.\n",
    "train_split = int(samples*0.8)\n",
    "\n",
    "#Create a dummy classification dataset\n",
    "X, y = make_blobs(n_samples=samples, centers=2, n_features=64, \n",
    "cluster_std=10, random_state=2020)\n",
    "y = y.reshape(-1,1)\n",
    "\n",
    "#Convert the numpy datasets to Torch Tensors\n",
    "X,y = tch.from_numpy(X),tch.from_numpy(y)\n",
    "X,y =X.float(),y.float()\n",
    "\n",
    "#Split the datasets into train and test(validation)\n",
    "# 按顺序划分\n",
    "X_train, x_test = X[:train_split], X[train_split:]\n",
    "Y_train, y_test = y[:train_split], y[train_split:]\n",
    "\n",
    "#Print shapes of each dataset\n",
    "print(\"X_train.shape:\",X_train.shape)\n",
    "print(\"x_test.shape:\",x_test.shape)\n",
    "print(\"Y_train.shape:\",Y_train.shape)\n",
    "print(\"y_test.shape:\",y_test.shape)\n",
    "print(\"X.dtype\",X.dtype)\n",
    "print(\"y.dtype\",y.dtype)"
   ]
  },
  {
   "cell_type": "markdown",
   "metadata": {},
   "source": [
    "定义一个前向神经网络："
   ]
  },
  {
   "cell_type": "code",
   "execution_count": 3,
   "metadata": {},
   "outputs": [],
   "source": [
    "class NeuralNetwork(nn.Module):\n",
    "    def __init__(self):\n",
    "        super().__init__()\n",
    "        tch.manual_seed(2020)\n",
    "        self.fc1 = nn.Linear(64, 256)\n",
    "        self.relu1 = nn.ReLU()\n",
    "        self.fc2 = nn.Linear(256, 1024)\n",
    "        self.relu2 = nn.ReLU()\n",
    "        self.out = nn.Linear(1024, 1)\n",
    "        self.final = nn.Sigmoid()\n",
    "    \n",
    "    def forward(self, x):\n",
    "        op = self.fc1(x)\n",
    "        op = self.relu1(op)\n",
    "        op = self.fc2(op)\n",
    "        op = self.relu2(op)\n",
    "\n",
    "        op = self.out(op)\n",
    "        y = self.final(op)\n",
    "        return y"
   ]
  },
  {
   "cell_type": "markdown",
   "metadata": {},
   "source": [
    "定义损失、优化、训练函数："
   ]
  },
  {
   "cell_type": "code",
   "execution_count": 4,
   "metadata": {},
   "outputs": [],
   "source": [
    "#Define function for training a network\n",
    "def train_network(model,optimizer,loss_function,num_epochs,batch_size,X_train,Y_train):\n",
    "    #Explicitly start model training\n",
    "    model.train()\n",
    "    loss_across_epochs = []\n",
    "    for epoch in range(num_epochs):\n",
    "        train_loss= 0.0\n",
    "        for i in range(0,X_train.shape[0],batch_size): # 小批次逐个批次训练\n",
    "            #Extract train batch from X and Y\n",
    "            input_data = X_train[i:min(X_train.shape[0],i+batch_size)]\n",
    "            labels = Y_train[i:min(X_train.shape[0],i+batch_size)]\n",
    "\n",
    "            #set the gradients to zero before starting to do backpropragation\n",
    "            #做后向传播之前，将梯度设置为0\n",
    "            optimizer.zero_grad()\n",
    "            #Forward pass \n",
    "            output_data = model(input_data)\n",
    "\n",
    "            #Caculate loss\n",
    "            loss = loss_function(output_data, labels)\n",
    "\n",
    "            #Backpropogate\n",
    "            loss.backward()\n",
    "\n",
    "            #Update weights\n",
    "            optimizer.step()\n",
    "            train_loss += loss.item() * batch_size\n",
    "        \n",
    "        print(\"Epoch: {} - Loss:{:.4f}\".format(epoch+1,train_loss ))\n",
    "        loss_across_epochs.extend([train_loss])\n",
    "\n",
    "    # #Predict\n",
    "    # y_test_pred = model(x_test)\n",
    "    # a =np.where(y_test_pred>0.5,1,0)\n",
    "    return(loss_across_epochs)\n",
    "    ###------------END OF FUNCTION--------------"
   ]
  },
  {
   "cell_type": "markdown",
   "metadata": {},
   "source": [
    "定义损失函数与模型："
   ]
  },
  {
   "cell_type": "code",
   "execution_count": 5,
   "metadata": {},
   "outputs": [],
   "source": [
    "#Define loss function\n",
    "loss_function = nn.BCELoss()\n",
    "\n",
    "# MSELoss (mean squared error loss), CrossEntropyLoss (for multi-class classification), and BCELoss (binary cross-entropy loss),\n",
    "\n",
    "num_epochs = 20\n",
    "batch_size=16\n",
    "#Calling the function for training and pass model, optimizer, loss and related paramter"
   ]
  },
  {
   "cell_type": "markdown",
   "metadata": {},
   "source": [
    "使用不同优化器训练："
   ]
  },
  {
   "cell_type": "markdown",
   "metadata": {},
   "source": [
    "RMSProp optimizer："
   ]
  },
  {
   "cell_type": "code",
   "execution_count": 6,
   "metadata": {},
   "outputs": [
    {
     "name": "stdout",
     "output_type": "stream",
     "text": [
      "RMSProp...\n",
      "Epoch: 1 - Loss:5882.0931\n",
      "Epoch: 2 - Loss:818.0934\n",
      "Epoch: 3 - Loss:2173.0420\n",
      "Epoch: 4 - Loss:2101.5048\n",
      "Epoch: 5 - Loss:1120.3915\n",
      "Epoch: 6 - Loss:2757.4468\n",
      "Epoch: 7 - Loss:994.1973\n",
      "Epoch: 8 - Loss:878.2424\n",
      "Epoch: 9 - Loss:3472.7540\n",
      "Epoch: 10 - Loss:4199.3060\n",
      "Epoch: 11 - Loss:1352.6665\n",
      "Epoch: 12 - Loss:1171.3573\n",
      "Epoch: 13 - Loss:1171.4818\n",
      "Epoch: 14 - Loss:741.2357\n",
      "Epoch: 15 - Loss:1738.0733\n",
      "Epoch: 16 - Loss:1037.7858\n",
      "Epoch: 17 - Loss:2979.8040\n",
      "Epoch: 18 - Loss:323.6905\n",
      "Epoch: 19 - Loss:2625.3718\n",
      "Epoch: 20 - Loss:4027.9944\n"
     ]
    }
   ],
   "source": [
    "model = NeuralNetwork()\n",
    "rmsprp_optimizer = tch.optim.RMSprop(model.parameters(), lr=0.01, alpha=0.9, eps=1e-08, weight_decay=0.1, momentum=0.1, centered=True)\n",
    "print(\"RMSProp...\")\n",
    "rmsprop_loss = train_network(model,rmsprp_optimizer,loss_function,num_epochs,batch_size,X_train,Y_train)"
   ]
  },
  {
   "cell_type": "markdown",
   "metadata": {},
   "source": [
    "Adam optimizer："
   ]
  },
  {
   "cell_type": "code",
   "execution_count": 7,
   "metadata": {},
   "outputs": [
    {
     "name": "stdout",
     "output_type": "stream",
     "text": [
      "Adam...\n",
      "Epoch: 1 - Loss:107.9976\n",
      "Epoch: 2 - Loss:8.7377\n",
      "Epoch: 3 - Loss:8.2711\n",
      "Epoch: 4 - Loss:0.8971\n",
      "Epoch: 5 - Loss:0.2219\n",
      "Epoch: 6 - Loss:0.0017\n",
      "Epoch: 7 - Loss:0.0016\n",
      "Epoch: 8 - Loss:0.0014\n",
      "Epoch: 9 - Loss:0.0012\n",
      "Epoch: 10 - Loss:0.0011\n",
      "Epoch: 11 - Loss:0.0009\n",
      "Epoch: 12 - Loss:0.0008\n",
      "Epoch: 13 - Loss:0.0007\n",
      "Epoch: 14 - Loss:0.0006\n",
      "Epoch: 15 - Loss:0.0005\n",
      "Epoch: 16 - Loss:0.0005\n",
      "Epoch: 17 - Loss:0.0004\n",
      "Epoch: 18 - Loss:0.0004\n",
      "Epoch: 19 - Loss:0.0003\n",
      "Epoch: 20 - Loss:0.0003\n"
     ]
    }
   ],
   "source": [
    "model = NeuralNetwork()\n",
    "adam_optimizer = tch.optim.Adam(model.parameters(),lr= 0.001)\n",
    "print(\"Adam...\")\n",
    "adam_loss = train_network(model,adam_optimizer,loss_function,num_epochs,batch_size,X_train,Y_train)"
   ]
  },
  {
   "cell_type": "markdown",
   "metadata": {},
   "source": [
    "SGD optimizer："
   ]
  },
  {
   "cell_type": "code",
   "execution_count": 8,
   "metadata": {},
   "outputs": [
    {
     "name": "stdout",
     "output_type": "stream",
     "text": [
      "SGD...\n",
      "Epoch: 1 - Loss:915.0239\n",
      "Epoch: 2 - Loss:1612.2528\n",
      "Epoch: 3 - Loss:885.7357\n",
      "Epoch: 4 - Loss:1179.8257\n",
      "Epoch: 5 - Loss:1200.0001\n",
      "Epoch: 6 - Loss:1200.0001\n",
      "Epoch: 7 - Loss:1200.0001\n",
      "Epoch: 8 - Loss:1200.0000\n",
      "Epoch: 9 - Loss:1200.0000\n",
      "Epoch: 10 - Loss:1200.0000\n",
      "Epoch: 11 - Loss:1200.0000\n",
      "Epoch: 12 - Loss:1200.0000\n",
      "Epoch: 13 - Loss:1200.0000\n",
      "Epoch: 14 - Loss:1200.0000\n",
      "Epoch: 15 - Loss:1200.0000\n",
      "Epoch: 16 - Loss:1200.0000\n",
      "Epoch: 17 - Loss:1200.0000\n",
      "Epoch: 18 - Loss:1200.0000\n",
      "Epoch: 19 - Loss:1200.0000\n",
      "Epoch: 20 - Loss:1200.0000\n"
     ]
    }
   ],
   "source": [
    "model = NeuralNetwork()\n",
    "sgd_optimizer = tch.optim.SGD(model.parameters(), lr=0.01, momentum=0.9)\n",
    "print(\"SGD...\")\n",
    "sgd_loss = train_network(model,sgd_optimizer,loss_function,num_epochs,batch_size,X_train,Y_train)\n"
   ]
  },
  {
   "cell_type": "markdown",
   "metadata": {},
   "source": [
    "结果展示:"
   ]
  },
  {
   "cell_type": "code",
   "execution_count": 9,
   "metadata": {},
   "outputs": [
    {
     "data": {
      "image/png": "[encoded data removed]",
      "text/plain": [
       "<Figure size 432x288 with 1 Axes>"
      ]
     },
     "metadata": {
      "needs_background": "light"
     },
     "output_type": "display_data"
    }
   ],
   "source": [
    "#Plot the losses for each optimizer across epochs\n",
    "epochs = range(0,10)\n",
    "ax = plt.subplot(111)\n",
    "ax.plot(adam_loss,label=\"ADAM\")\n",
    "ax.plot(sgd_loss,label=\"SGD\")\n",
    "ax.plot(rmsprop_loss,label=\"RMSProp\")\n",
    "ax.legend()\n",
    "plt.xlabel(\"Epochs\")\n",
    "plt.ylabel(\"Overall Loss\")\n",
    "plt.title(\"Loss across epochs for different optimizers\")\n",
    "plt.show()"
   ]
  },
  {
   "cell_type": "code",
   "execution_count": 10,
   "metadata": {},
   "outputs": [],
   "source": [
    "# # Download an example image from the pytorch website\n",
    "# import urllib\n",
    "# url, filename = (\"https://github.com/pytorch/hub/raw/master/images/deeplab1.png\", \"deeplab1.png\")\n",
    "# try: urllib.URLopener().retrieve(url, filename)\n",
    "# except: urllib.request.urlretrieve(url, filename)\n"
   ]
  }
 ],
 "metadata": {
  "kernelspec": {
   "display_name": "Python 3.8.8 ('base')",
   "language": "python",
   "name": "python3"
  },
  "language_info": {
   "codemirror_mode": {
    "name": "ipython",
    "version": 3
   },
   "file_extension": ".py",
   "mimetype": "text/x-python",
   "name": "python",
   "nbconvert_exporter": "python",
   "pygments_lexer": "ipython3",
   "version": "3.8.8"
  },
  "orig_nbformat": 4,
  "vscode": {
   "interpreter": {
    "hash": "91f6a04488c6f6c893277af113acfe6c1e243656720881e8cb90c9c6953cd34f"
   }
  }
 },
 "nbformat": 4,
 "nbformat_minor": 2
}
