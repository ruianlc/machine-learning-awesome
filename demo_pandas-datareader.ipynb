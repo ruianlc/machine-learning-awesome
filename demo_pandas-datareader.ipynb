{
 "cells": [
  {
   "cell_type": "markdown",
   "metadata": {},
   "source": [
    "# 使用pandas-datareader工具包获取网络数据"
   ]
  },
  {
   "cell_type": "markdown",
   "metadata": {},
   "source": [
    "## 导入依赖库"
   ]
  },
  {
   "cell_type": "code",
   "execution_count": 9,
   "metadata": {},
   "outputs": [],
   "source": [
    "import pandas as pd\n",
    "\n",
    "import pandas_datareader as pdr\n",
    "\n",
    "import datetime as dt"
   ]
  },
  {
   "cell_type": "markdown",
   "metadata": {},
   "source": [
    "## 获取所有列表"
   ]
  },
  {
   "cell_type": "markdown",
   "metadata": {},
   "source": [
    "### 提取数据源1"
   ]
  },
  {
   "cell_type": "code",
   "execution_count": 19,
   "metadata": {},
   "outputs": [
    {
     "name": "stdout",
     "output_type": "stream",
     "text": [
      "exception\n",
      "exception\n"
     ]
    }
   ],
   "source": [
    "# Symbols available for trading on nasdaq\n",
    "nasdaq_symbols = pdr.get_nasdaq_symbols()\n",
    "symbos_list = nasdaq_symbols.index.tolist()\n",
    "\n",
    "\n",
    "start_date = dt.datetime(2020, 1, 1)\n",
    "end_date = dt.datetime.today()\n",
    "\n",
    "for symbol in symbos_list[::200]:\n",
    "    try:\n",
    "        df = pdr.data.DataReader(symbol, 'yahoo', start=start_date, end=end_date)\n",
    "        \n",
    "        security_name = nasdaq_symbols._get_value(symbol, \"Security Name\")\n",
    "        df_len = df.shape[0]\n",
    "        if df_len < 170:\n",
    "            continue\n",
    "        \n",
    "        df[\"Symbol\"] = [symbol] * df_len\n",
    "        df[\"Security Name\"] = [security_name] * df_len\n",
    "\n",
    "        df.to_csv(f'data/output/{symbol}.csv', encoding='utf_8_sig', index=True)\n",
    "    except:\n",
    "        print(\"exception\")\n",
    "        continue"
   ]
  },
  {
   "cell_type": "markdown",
   "metadata": {},
   "source": [
    "### 提取数据源2"
   ]
  },
  {
   "cell_type": "code",
   "execution_count": 24,
   "metadata": {},
   "outputs": [],
   "source": [
    "# 从世界银行获取各国统计指标 \n",
    "from pandas_datareader import wb\n",
    "\n",
    "# 根据条件查询相应指标\n",
    "matches = wb.search('gdp.*capita.*const')"
   ]
  },
  {
   "cell_type": "code",
   "execution_count": 25,
   "metadata": {},
   "outputs": [
    {
     "data": {
      "text/html": [
       "<div>\n",
       "<style scoped>\n",
       "    .dataframe tbody tr th:only-of-type {\n",
       "        vertical-align: middle;\n",
       "    }\n",
       "\n",
       "    .dataframe tbody tr th {\n",
       "        vertical-align: top;\n",
       "    }\n",
       "\n",
       "    .dataframe thead th {\n",
       "        text-align: right;\n",
       "    }\n",
       "</style>\n",
       "<table border=\"1\" class=\"dataframe\">\n",
       "  <thead>\n",
       "    <tr style=\"text-align: right;\">\n",
       "      <th></th>\n",
       "      <th>id</th>\n",
       "      <th>name</th>\n",
       "      <th>unit</th>\n",
       "      <th>source</th>\n",
       "      <th>sourceNote</th>\n",
       "      <th>sourceOrganization</th>\n",
       "      <th>topics</th>\n",
       "    </tr>\n",
       "  </thead>\n",
       "  <tbody>\n",
       "    <tr>\n",
       "      <th>8196</th>\n",
       "      <td>IT.CEL.COVR.ZS</td>\n",
       "      <td>Population covered by mobile cellular network (%)</td>\n",
       "      <td></td>\n",
       "      <td>WDI Database Archives</td>\n",
       "      <td>Population covered by a mobile-cellular networ...</td>\n",
       "      <td>b'International Telecommunication Union, World...</td>\n",
       "      <td></td>\n",
       "    </tr>\n",
       "    <tr>\n",
       "      <th>8251</th>\n",
       "      <td>IT.MOB.COV.ZS</td>\n",
       "      <td>Population coverage of mobile cellular telepho...</td>\n",
       "      <td></td>\n",
       "      <td>Africa Development Indicators</td>\n",
       "      <td>Please cite the International Telecommunicatio...</td>\n",
       "      <td>b'International Telecommunication Union, World...</td>\n",
       "      <td></td>\n",
       "    </tr>\n",
       "  </tbody>\n",
       "</table>\n",
       "</div>"
      ],
      "text/plain": [
       "                  id                                               name unit  \\\n",
       "8196  IT.CEL.COVR.ZS  Population covered by mobile cellular network (%)        \n",
       "8251   IT.MOB.COV.ZS  Population coverage of mobile cellular telepho...        \n",
       "\n",
       "                             source  \\\n",
       "8196          WDI Database Archives   \n",
       "8251  Africa Development Indicators   \n",
       "\n",
       "                                             sourceNote  \\\n",
       "8196  Population covered by a mobile-cellular networ...   \n",
       "8251  Please cite the International Telecommunicatio...   \n",
       "\n",
       "                                     sourceOrganization topics  \n",
       "8196  b'International Telecommunication Union, World...         \n",
       "8251  b'International Telecommunication Union, World...         "
      ]
     },
     "execution_count": 25,
     "metadata": {},
     "output_type": "execute_result"
    }
   ],
   "source": [
    "matches = wb.search('cell.*%')\n",
    "matches"
   ]
  },
  {
   "cell_type": "code",
   "execution_count": 28,
   "metadata": {},
   "outputs": [
    {
     "data": {
      "text/html": [
       "<div>\n",
       "<style scoped>\n",
       "    .dataframe tbody tr th:only-of-type {\n",
       "        vertical-align: middle;\n",
       "    }\n",
       "\n",
       "    .dataframe tbody tr th {\n",
       "        vertical-align: top;\n",
       "    }\n",
       "\n",
       "    .dataframe thead th {\n",
       "        text-align: right;\n",
       "    }\n",
       "</style>\n",
       "<table border=\"1\" class=\"dataframe\">\n",
       "  <thead>\n",
       "    <tr style=\"text-align: right;\">\n",
       "      <th></th>\n",
       "      <th></th>\n",
       "      <th>NY.GDP.PCAP.KD</th>\n",
       "    </tr>\n",
       "    <tr>\n",
       "      <th>country</th>\n",
       "      <th>year</th>\n",
       "      <th></th>\n",
       "    </tr>\n",
       "  </thead>\n",
       "  <tbody>\n",
       "    <tr>\n",
       "      <th rowspan=\"5\" valign=\"top\">Canada</th>\n",
       "      <th>2021</th>\n",
       "      <td>43945.556990</td>\n",
       "    </tr>\n",
       "    <tr>\n",
       "      <th>2020</th>\n",
       "      <td>42258.691017</td>\n",
       "    </tr>\n",
       "    <tr>\n",
       "      <th>2019</th>\n",
       "      <td>45109.244486</td>\n",
       "    </tr>\n",
       "    <tr>\n",
       "      <th>2018</th>\n",
       "      <td>44917.483728</td>\n",
       "    </tr>\n",
       "    <tr>\n",
       "      <th>2017</th>\n",
       "      <td>44325.488337</td>\n",
       "    </tr>\n",
       "    <tr>\n",
       "      <th>...</th>\n",
       "      <th>...</th>\n",
       "      <td>...</td>\n",
       "    </tr>\n",
       "    <tr>\n",
       "      <th rowspan=\"5\" valign=\"top\">United States</th>\n",
       "      <th>2004</th>\n",
       "      <td>51485.207412</td>\n",
       "    </tr>\n",
       "    <tr>\n",
       "      <th>2003</th>\n",
       "      <td>50036.234235</td>\n",
       "    </tr>\n",
       "    <tr>\n",
       "      <th>2002</th>\n",
       "      <td>49095.331799</td>\n",
       "    </tr>\n",
       "    <tr>\n",
       "      <th>2001</th>\n",
       "      <td>48726.581673</td>\n",
       "    </tr>\n",
       "    <tr>\n",
       "      <th>2000</th>\n",
       "      <td>48746.040960</td>\n",
       "    </tr>\n",
       "  </tbody>\n",
       "</table>\n",
       "<p>66 rows × 1 columns</p>\n",
       "</div>"
      ],
      "text/plain": [
       "                    NY.GDP.PCAP.KD\n",
       "country       year                \n",
       "Canada        2021    43945.556990\n",
       "              2020    42258.691017\n",
       "              2019    45109.244486\n",
       "              2018    44917.483728\n",
       "              2017    44325.488337\n",
       "...                            ...\n",
       "United States 2004    51485.207412\n",
       "              2003    50036.234235\n",
       "              2002    49095.331799\n",
       "              2001    48726.581673\n",
       "              2000    48746.040960\n",
       "\n",
       "[66 rows x 1 columns]"
      ]
     },
     "execution_count": 28,
     "metadata": {},
     "output_type": "execute_result"
    }
   ],
   "source": [
    "start_date = dt.datetime(2000, 1, 1)\n",
    "end_date = dt.datetime.today()\n",
    "\n",
    "data = wb.download(indicator='NY.GDP.PCAP.KD', country=['US', 'CA', 'MX'], start=start_date, end=end_date)\n",
    "data"
   ]
  },
  {
   "cell_type": "code",
   "execution_count": null,
   "metadata": {},
   "outputs": [
    {
     "name": "stdout",
     "output_type": "stream",
     "text": [
      "exception\n",
      "exception\n"
     ]
    }
   ],
   "source": [
    "# Symbols available for trading on Moscow Exchange (MOEX) \n",
    "iex_symbols = pdr.get_iex_symbols()\n",
    "symbos_list = nasdaq_symbols.index.tolist()\n",
    "\n",
    "\n",
    "start_date = dt.datetime(2020, 1, 1)\n",
    "end_date = dt.datetime.today()\n",
    "\n",
    "for symbol in symbos_list[::200]:\n",
    "    try:\n",
    "        df = pdr.data.DataReader(symbol, 'yahoo', start=start_date, end=end_date)\n",
    "        \n",
    "        security_name = nasdaq_symbols._get_value(symbol, \"Security Name\")\n",
    "        df_len = df.shape[0]\n",
    "        if df_len < 170:\n",
    "            continue\n",
    "        \n",
    "        df[\"Symbol\"] = [symbol] * df_len\n",
    "        df[\"Security Name\"] = [security_name] * df_len\n",
    "\n",
    "        df.to_csv(f'data/output/{symbol}.csv', encoding='utf_8_sig', index=True)\n",
    "    except:\n",
    "        print(\"exception\")\n",
    "        continue"
   ]
  },
  {
   "cell_type": "markdown",
   "metadata": {},
   "source": [
    "## 画图"
   ]
  },
  {
   "cell_type": "code",
   "execution_count": null,
   "metadata": {},
   "outputs": [],
   "source": []
  }
 ],
 "metadata": {
  "kernelspec": {
   "display_name": "Python 3.9.13 ('base')",
   "language": "python",
   "name": "python3"
  },
  "language_info": {
   "codemirror_mode": {
    "name": "ipython",
    "version": 3
   },
   "file_extension": ".py",
   "mimetype": "text/x-python",
   "name": "python",
   "nbconvert_exporter": "python",
   "pygments_lexer": "ipython3",
   "version": "3.9.13"
  },
  "orig_nbformat": 4,
  "vscode": {
   "interpreter": {
    "hash": "e42634819b8c191a5d07eaf23810ff32516dd8d3875f28ec3e488928fbd3c187"
   }
  }
 },
 "nbformat": 4,
 "nbformat_minor": 2
}
