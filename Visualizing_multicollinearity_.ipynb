{
  "cells": [
    {
      "cell_type": "markdown",
      "metadata": {
        "id": "y4BvhMqDj2Ho"
      },
      "source": [
        "# Visualizing multicollinearity in Python"
      ]
    },
    {
      "cell_type": "markdown",
      "metadata": {
        "id": "OnWi5hHrj6w5"
      },
      "source": [
        "## Imports"
      ]
    },
    {
      "cell_type": "code",
      "execution_count": 1,
      "metadata": {
        "colab": {
          "base_uri": "https://localhost:8080/"
        },
        "id": "7SLcEnymj6bN",
        "outputId": "c4749742-b3fc-4ec8-d282-0f9da614a74f"
      },
      "outputs": [],
      "source": [
        "import math\n",
        "import pandas as pd\n",
        "import seaborn as sns\n",
        "%matplotlib inline\n",
        "import numpy as np\n",
        "import matplotlib.pyplot as plt\n",
        "\n",
        "import plotly.graph_objects as go\n",
        "import networkx as nx\n",
        "from ipywidgets import Layout, widgets\n",
        "# from google.colab import output\n",
        "# output.enable_custom_widget_manager()\n",
        "\n",
        "# !pip install yfinance\n",
        "# import yfinance as yf"
      ]
    },
    {
      "cell_type": "markdown",
      "metadata": {
        "id": "Ea-Yfihrj9nU"
      },
      "source": [
        "## Data and mapping"
      ]
    },
    {
      "cell_type": "markdown",
      "metadata": {
        "id": "I6u9ar6tlF5t"
      },
      "source": [
        "### Retrieving S&P500 tickers"
      ]
    },
    {
      "cell_type": "code",
      "execution_count": 2,
      "metadata": {
        "colab": {
          "base_uri": "https://localhost:8080/",
          "height": 423
        },
        "id": "aCPjJupBjyzE",
        "outputId": "7233da54-228c-4945-ecea-9f00817cc437"
      },
      "outputs": [
        {
          "data": {
            "text/html": [
              "<div>\n",
              "<style scoped>\n",
              "    .dataframe tbody tr th:only-of-type {\n",
              "        vertical-align: middle;\n",
              "    }\n",
              "\n",
              "    .dataframe tbody tr th {\n",
              "        vertical-align: top;\n",
              "    }\n",
              "\n",
              "    .dataframe thead th {\n",
              "        text-align: right;\n",
              "    }\n",
              "</style>\n",
              "<table border=\"1\" class=\"dataframe\">\n",
              "  <thead>\n",
              "    <tr style=\"text-align: right;\">\n",
              "      <th></th>\n",
              "      <th>Symbol</th>\n",
              "      <th>Security</th>\n",
              "      <th>SEC filings</th>\n",
              "      <th>GICS Sector</th>\n",
              "      <th>GICS Sub-Industry</th>\n",
              "      <th>Headquarters Location</th>\n",
              "      <th>Date first added</th>\n",
              "      <th>CIK</th>\n",
              "      <th>Founded</th>\n",
              "    </tr>\n",
              "  </thead>\n",
              "  <tbody>\n",
              "    <tr>\n",
              "      <th>0</th>\n",
              "      <td>MMM</td>\n",
              "      <td>3M</td>\n",
              "      <td>reports</td>\n",
              "      <td>Industrials</td>\n",
              "      <td>Industrial Conglomerates</td>\n",
              "      <td>Saint Paul, Minnesota</td>\n",
              "      <td>1976-08-09</td>\n",
              "      <td>66740</td>\n",
              "      <td>1902</td>\n",
              "    </tr>\n",
              "    <tr>\n",
              "      <th>1</th>\n",
              "      <td>AOS</td>\n",
              "      <td>A. O. Smith</td>\n",
              "      <td>reports</td>\n",
              "      <td>Industrials</td>\n",
              "      <td>Building Products</td>\n",
              "      <td>Milwaukee, Wisconsin</td>\n",
              "      <td>2017-07-26</td>\n",
              "      <td>91142</td>\n",
              "      <td>1916</td>\n",
              "    </tr>\n",
              "    <tr>\n",
              "      <th>2</th>\n",
              "      <td>ABT</td>\n",
              "      <td>Abbott</td>\n",
              "      <td>reports</td>\n",
              "      <td>Health Care</td>\n",
              "      <td>Health Care Equipment</td>\n",
              "      <td>North Chicago, Illinois</td>\n",
              "      <td>1964-03-31</td>\n",
              "      <td>1800</td>\n",
              "      <td>1888</td>\n",
              "    </tr>\n",
              "    <tr>\n",
              "      <th>3</th>\n",
              "      <td>ABBV</td>\n",
              "      <td>AbbVie</td>\n",
              "      <td>reports</td>\n",
              "      <td>Health Care</td>\n",
              "      <td>Pharmaceuticals</td>\n",
              "      <td>North Chicago, Illinois</td>\n",
              "      <td>2012-12-31</td>\n",
              "      <td>1551152</td>\n",
              "      <td>2013 (1888)</td>\n",
              "    </tr>\n",
              "    <tr>\n",
              "      <th>4</th>\n",
              "      <td>ABMD</td>\n",
              "      <td>Abiomed</td>\n",
              "      <td>reports</td>\n",
              "      <td>Health Care</td>\n",
              "      <td>Health Care Equipment</td>\n",
              "      <td>Danvers, Massachusetts</td>\n",
              "      <td>2018-05-31</td>\n",
              "      <td>815094</td>\n",
              "      <td>1981</td>\n",
              "    </tr>\n",
              "    <tr>\n",
              "      <th>...</th>\n",
              "      <td>...</td>\n",
              "      <td>...</td>\n",
              "      <td>...</td>\n",
              "      <td>...</td>\n",
              "      <td>...</td>\n",
              "      <td>...</td>\n",
              "      <td>...</td>\n",
              "      <td>...</td>\n",
              "      <td>...</td>\n",
              "    </tr>\n",
              "    <tr>\n",
              "      <th>499</th>\n",
              "      <td>YUM</td>\n",
              "      <td>Yum! Brands</td>\n",
              "      <td>reports</td>\n",
              "      <td>Consumer Discretionary</td>\n",
              "      <td>Restaurants</td>\n",
              "      <td>Louisville, Kentucky</td>\n",
              "      <td>1997-10-06</td>\n",
              "      <td>1041061</td>\n",
              "      <td>1997</td>\n",
              "    </tr>\n",
              "    <tr>\n",
              "      <th>500</th>\n",
              "      <td>ZBRA</td>\n",
              "      <td>Zebra</td>\n",
              "      <td>reports</td>\n",
              "      <td>Information Technology</td>\n",
              "      <td>Electronic Equipment &amp; Instruments</td>\n",
              "      <td>Lincolnshire, Illinois</td>\n",
              "      <td>2019-12-23</td>\n",
              "      <td>877212</td>\n",
              "      <td>1969</td>\n",
              "    </tr>\n",
              "    <tr>\n",
              "      <th>501</th>\n",
              "      <td>ZBH</td>\n",
              "      <td>Zimmer Biomet</td>\n",
              "      <td>reports</td>\n",
              "      <td>Health Care</td>\n",
              "      <td>Health Care Equipment</td>\n",
              "      <td>Warsaw, Indiana</td>\n",
              "      <td>2001-08-07</td>\n",
              "      <td>1136869</td>\n",
              "      <td>1927</td>\n",
              "    </tr>\n",
              "    <tr>\n",
              "      <th>502</th>\n",
              "      <td>ZION</td>\n",
              "      <td>Zions Bancorp</td>\n",
              "      <td>reports</td>\n",
              "      <td>Financials</td>\n",
              "      <td>Regional Banks</td>\n",
              "      <td>Salt Lake City, Utah</td>\n",
              "      <td>2001-06-22</td>\n",
              "      <td>109380</td>\n",
              "      <td>1873</td>\n",
              "    </tr>\n",
              "    <tr>\n",
              "      <th>503</th>\n",
              "      <td>ZTS</td>\n",
              "      <td>Zoetis</td>\n",
              "      <td>reports</td>\n",
              "      <td>Health Care</td>\n",
              "      <td>Pharmaceuticals</td>\n",
              "      <td>Parsippany, New Jersey</td>\n",
              "      <td>2013-06-21</td>\n",
              "      <td>1555280</td>\n",
              "      <td>1952</td>\n",
              "    </tr>\n",
              "  </tbody>\n",
              "</table>\n",
              "<p>504 rows × 9 columns</p>\n",
              "</div>"
            ],
            "text/plain": [
              "    Symbol       Security SEC filings             GICS Sector  \\\n",
              "0      MMM             3M     reports             Industrials   \n",
              "1      AOS    A. O. Smith     reports             Industrials   \n",
              "2      ABT         Abbott     reports             Health Care   \n",
              "3     ABBV         AbbVie     reports             Health Care   \n",
              "4     ABMD        Abiomed     reports             Health Care   \n",
              "..     ...            ...         ...                     ...   \n",
              "499    YUM    Yum! Brands     reports  Consumer Discretionary   \n",
              "500   ZBRA          Zebra     reports  Information Technology   \n",
              "501    ZBH  Zimmer Biomet     reports             Health Care   \n",
              "502   ZION  Zions Bancorp     reports              Financials   \n",
              "503    ZTS         Zoetis     reports             Health Care   \n",
              "\n",
              "                      GICS Sub-Industry    Headquarters Location  \\\n",
              "0              Industrial Conglomerates    Saint Paul, Minnesota   \n",
              "1                     Building Products     Milwaukee, Wisconsin   \n",
              "2                 Health Care Equipment  North Chicago, Illinois   \n",
              "3                       Pharmaceuticals  North Chicago, Illinois   \n",
              "4                 Health Care Equipment   Danvers, Massachusetts   \n",
              "..                                  ...                      ...   \n",
              "499                         Restaurants     Louisville, Kentucky   \n",
              "500  Electronic Equipment & Instruments   Lincolnshire, Illinois   \n",
              "501               Health Care Equipment          Warsaw, Indiana   \n",
              "502                      Regional Banks     Salt Lake City, Utah   \n",
              "503                     Pharmaceuticals   Parsippany, New Jersey   \n",
              "\n",
              "    Date first added      CIK      Founded  \n",
              "0         1976-08-09    66740         1902  \n",
              "1         2017-07-26    91142         1916  \n",
              "2         1964-03-31     1800         1888  \n",
              "3         2012-12-31  1551152  2013 (1888)  \n",
              "4         2018-05-31   815094         1981  \n",
              "..               ...      ...          ...  \n",
              "499       1997-10-06  1041061         1997  \n",
              "500       2019-12-23   877212         1969  \n",
              "501       2001-08-07  1136869         1927  \n",
              "502       2001-06-22   109380         1873  \n",
              "503       2013-06-21  1555280         1952  \n",
              "\n",
              "[504 rows x 9 columns]"
            ]
          },
          "execution_count": 2,
          "metadata": {},
          "output_type": "execute_result"
        }
      ],
      "source": [
        "payload = pd.read_html('https://en.wikipedia.org/wiki/List_of_S%26P_500_companies')\n",
        "sp500_table = payload[0]\n",
        "sp500_table"
      ]
    },
    {
      "cell_type": "markdown",
      "metadata": {
        "id": "qiT0_OjelK7m"
      },
      "source": [
        "### Generate color mappings for similar sectors"
      ]
    },
    {
      "cell_type": "code",
      "execution_count": 3,
      "metadata": {
        "id": "dxwjdF7tjzCk"
      },
      "outputs": [],
      "source": [
        "sp500_tickers = sp500_table.Symbol.str.upper().values\n",
        "sp500_names = sp500_table.Security.values\n",
        "sp500_sectors = sp500_table[\"GICS Sector\"].values\n",
        "sp500_sub_sectors = sp500_table[\"GICS Sub-Industry\"].values\n",
        "\n",
        "sp500_names_mapping = dict(zip(sp500_tickers, sp500_names))\n",
        "sp500_sector_mapping = dict(zip(sp500_names, sp500_sectors))\n",
        "sp500_sub_sector_mapping = dict(zip(sp500_names, sp500_sub_sectors))\n",
        "sector_color_mapping = dict(zip(sp500_sectors, sns.color_palette(\"pastel\", len(sp500_sectors)).as_hex()))\n",
        "subsector_color_mapping = dict(zip(sp500_sub_sectors, sns.color_palette(\"pastel\", len(sp500_sub_sectors)).as_hex()))"
      ]
    },
    {
      "cell_type": "markdown",
      "metadata": {
        "id": "jP8Io258lPWp"
      },
      "source": [
        "### Download stock data"
      ]
    },
    {
      "cell_type": "code",
      "execution_count": null,
      "metadata": {
        "colab": {
          "base_uri": "https://localhost:8080/",
          "height": 817
        },
        "id": "ti8GH8YikINi",
        "outputId": "e530210d-a7d9-4a6a-f776-fa0b19f2f8ab"
      },
      "outputs": [],
      "source": [
        "tickers = list(sp500_tickers)\n",
        "prices = yf.download(tickers, start=\"2020-01-01\", end=\"2021-12-31\", interval='1d')\n",
        "prices = prices[\"Adj Close\"]\n",
        "prices = prices.rename(columns=sp500_names_mapping)\n",
        "prices"
      ]
    },
    {
      "cell_type": "markdown",
      "metadata": {
        "id": "kX53_HsalTAU"
      },
      "source": [
        "### Preprocessing (imputation)"
      ]
    },
    {
      "cell_type": "code",
      "execution_count": null,
      "metadata": {
        "colab": {
          "base_uri": "https://localhost:8080/"
        },
        "id": "OZ_gDY3UkKtO",
        "outputId": "1923326a-35c7-47e4-9ca3-9c7a110c6e6f"
      },
      "outputs": [],
      "source": [
        "for i, row in prices.iterrows():\n",
        "  if row.isnull().mean() > 0.9: prices.drop(i, inplace=True)\n",
        "prices = prices.loc[:, prices.isnull().mean() < 0.3]\n",
        "prices = prices.fillna(method='bfill')\n",
        "print(prices.shape)"
      ]
    },
    {
      "cell_type": "markdown",
      "metadata": {
        "id": "SJoTJQ5FlZwr"
      },
      "source": [
        "### Generate correlation matrix"
      ]
    },
    {
      "cell_type": "markdown",
      "metadata": {
        "id": "TjvqpwozmZ4J"
      },
      "source": [
        "Note: this can take a while"
      ]
    },
    {
      "cell_type": "code",
      "execution_count": null,
      "metadata": {
        "id": "zpTO-40ykM6t"
      },
      "outputs": [],
      "source": [
        "corr = prices.rolling(60).corr()\n",
        "corr_ = np.array([corr.loc[i].to_numpy() for i in prices.index if not np.isnan(corr.loc[i].to_numpy()).all()])\n",
        "corr_ = np.nansum(corr_, axis=0)/len(corr_)\n",
        "corr_ = pd.DataFrame(columns=prices.columns.tolist(), index=prices.columns.tolist(), data=corr_)"
      ]
    },
    {
      "cell_type": "code",
      "execution_count": null,
      "metadata": {
        "colab": {
          "base_uri": "https://localhost:8080/"
        },
        "id": "65KWOkcy7JMc",
        "outputId": "ad2e7277-2830-4c82-dd80-da0c051072e5"
      },
      "outputs": [],
      "source": [
        "corr_.value_counts()"
      ]
    },
    {
      "cell_type": "markdown",
      "metadata": {
        "id": "DCzTV8X-mg-c"
      },
      "source": [
        "## Visualizations"
      ]
    },
    {
      "cell_type": "markdown",
      "metadata": {
        "id": "KMEov2OlkOeZ"
      },
      "source": [
        "### Approach 1: The heatmap"
      ]
    },
    {
      "cell_type": "code",
      "execution_count": null,
      "metadata": {
        "colab": {
          "base_uri": "https://localhost:8080/",
          "height": 1000
        },
        "id": "0daPgQoTkOBi",
        "outputId": "fcaa0cc9-aaf5-4a53-d924-ec1f53291140"
      },
      "outputs": [],
      "source": [
        "plt.figure(figsize=(20,20))\n",
        "sns.heatmap(corr_) "
      ]
    },
    {
      "cell_type": "markdown",
      "metadata": {
        "id": "OeSNglMokT2j"
      },
      "source": [
        "### Approach 2: The clustermap"
      ]
    },
    {
      "cell_type": "code",
      "execution_count": null,
      "metadata": {
        "colab": {
          "base_uri": "https://localhost:8080/",
          "height": 1000
        },
        "id": "KtrU4sa_kUGj",
        "outputId": "02b6d2cf-bac9-4881-acbe-2e7c9d2ad066"
      },
      "outputs": [],
      "source": [
        "sns.clustermap(corr_, figsize=(20,20))"
      ]
    },
    {
      "cell_type": "markdown",
      "metadata": {
        "id": "jJvqOI96kWG4"
      },
      "source": [
        "### Approach 3: Interactive network graph"
      ]
    },
    {
      "cell_type": "code",
      "execution_count": null,
      "metadata": {
        "colab": {
          "base_uri": "https://localhost:8080/",
          "height": 48,
          "referenced_widgets": [
            "9f66f2f5cd4b4f15bc45e481558b817c",
            "71a5439a26b640ed9b63da2041fbf67e",
            "98b6cea6d2114a9faf82b8f776825352",
            "fea00514b1f7459ab8863d9cbe132bc3",
            "162fda8929b34d9a8ba043682719d4b2"
          ]
        },
        "id": "TKym7DNxkWNJ",
        "outputId": "e2701aa7-c447-4de5-e599-4d48010ecf6d"
      },
      "outputs": [],
      "source": [
        "threshold_choice = widgets.FloatSlider(description=\"Threshold\", value=0.8, min=0.5, max=1, step=0.05, continuous_update=False, orientation='horizontal',\n",
        "                           layout=Layout(width='500px'), style=dict(description_width= 'initial'))\n",
        "\n",
        "network = go.FigureWidget(data=[go.Scatter(x=[], y=[], mode='lines', text=[],  line=dict(color='MediumPurple',width=10),\n",
        "                                           marker=dict(size=20, line_width=10,line=dict(color='MediumPurple',width=2))),\n",
        "                                go.Scatter(x=[], y=[],mode='markers+text', textposition=\"top center\", \n",
        "                                          text=[],hoverinfo='text',textfont_size=12, marker=dict(size=50, color=[],line_width=1))],\n",
        "                          layout=go.Layout( showlegend=False, annotations=[], margin=dict(t=40, b=0, l=0, r=0), width=1600, height=800))\n",
        "\n",
        "df = prices.copy()\n",
        "correlation_matrix = corr_.to_numpy()\n",
        "\n",
        "def plot_corr_graph(change):\n",
        "    threshold, corr_mode = None, None\n",
        "\n",
        "    threshold = change.new\n",
        "    \n",
        "    tr_ind = np.triu_indices(correlation_matrix.shape[0])\n",
        "    correlation_matrix[tr_ind] = 0\n",
        "\n",
        "    G = nx.from_numpy_matrix(correlation_matrix)\n",
        "    G = nx.relabel_nodes(G, lambda x: df.columns.tolist()[x])\n",
        "    # 49 x 49 - 49 (self corr) / 2 (remove upper triang)\n",
        "\n",
        "    remove = []\n",
        "    \n",
        "    for col1, col2, weight in G.edges(data=True):\n",
        "\n",
        "        if math.isnan(weight[\"weight\"]):\n",
        "            remove.append((col1,col2))\n",
        "    \n",
        "        if abs(weight[\"weight\"]) < threshold:\n",
        "            remove.append((col1,col2))\n",
        "    \n",
        "    G.remove_edges_from(remove)\n",
        "    \n",
        "    remove = []\n",
        "    edges = list(sum(G.edges, ()))\n",
        "\n",
        "    for node in G.nodes:\n",
        "        if node not in edges:\n",
        "            remove.append(node)\n",
        "\n",
        "    G.remove_nodes_from(remove)\n",
        "    mst = nx.maximum_spanning_tree(G)\n",
        "\n",
        "    def assign_color(col):\n",
        "      return sector_color_mapping[sp500_sector_mapping[col]]\n",
        "\n",
        "    # def assign_thickness(correlation, benchmark_thickness=20, scaling_factor=2):\n",
        "    #   return benchmark_thickness * abs(correlation)**scaling_factor\n",
        "\n",
        "    # def assign_node_size(degree, scaling_factor=500):\n",
        "    #   return degree * scaling_factor\n",
        "\n",
        "    def assign_color_edge(correlation):\n",
        "      if correlation < 0:\n",
        "        return \"#BF0603\"\n",
        "      else:\n",
        "        return \"#00CC66\"\n",
        "\n",
        "    edge_colors = []\n",
        "    # edge_width = []\n",
        "    # node_size = []\n",
        "    node_colors = []\n",
        "\n",
        "    for key, value in nx.get_edge_attributes(mst, 'weight').items():\n",
        "        edge_colors.append(assign_color_edge(value))\n",
        "        # edge_width.append(assign_thickness(value))\n",
        "\n",
        "    for key, value in dict(mst.degree).items():\n",
        "        # node_size.append(assign_node_size(value))\n",
        "        node_colors.append(assign_color(key))\n",
        "      \n",
        "    labels = {n:n for n in mst.nodes()}\n",
        "    node_x = []\n",
        "    node_y = []\n",
        "    \n",
        "    tree = nx.fruchterman_reingold_layout(mst, k=0.25).items()\n",
        "    \n",
        "    for node, (x_,y_) in tree:\n",
        "        node_x.append(x_)\n",
        "        node_y.append(y_)\n",
        "        \n",
        "    def get_dim_of_node(name):\n",
        "        for node, (x,y) in tree:\n",
        "            if node == name:\n",
        "                return x,y\n",
        "        \n",
        "    edge_x = []\n",
        "    edge_y = []\n",
        "    \n",
        "    weights= []\n",
        "    for node1, node2, w in mst.edges(data=True):\n",
        "        x0, y0 = get_dim_of_node(node1)\n",
        "        x1, y1 =  get_dim_of_node(node2)\n",
        "        edge_x.append(x0)\n",
        "        edge_x.append(x1)\n",
        "        edge_x.append(None)\n",
        "        edge_y.append(y0)\n",
        "        edge_y.append(y1)\n",
        "        edge_y.append(None)\n",
        "        weights.append((round(w[\"weight\"],1), (x0+x1)/2, (y0+y1)/2))\n",
        "    # annotations_list =[dict(x=weight[1], y=weight[2], xref='x', yref='y', text=weight[0], ax=weight[1], ay=weight[2]) for weight in weights]\n",
        "                              \n",
        "    with network.batch_update():\n",
        "        network.data[1].x = node_x\n",
        "        network.data[1].y = node_y\n",
        "        network.data[1].text = list(labels)\n",
        "        network.data[1].marker.color = node_colors\n",
        "        # network.update_layout(annotations=annotations_list)\n",
        "                          \n",
        "        network.data[0].x = edge_x\n",
        "        network.data[0].y = edge_y\n",
        "        network.data[0].text = list(weights)\n",
        "        network.update_layout(xaxis_zeroline=False, yaxis_zeroline=False, xaxis_showgrid=False, yaxis_showgrid=False, plot_bgcolor='rgba(0,0,0,0)')\n",
        "\n",
        "threshold_choice.observe(plot_corr_graph, names=\"value\")\n",
        "widgets.VBox([threshold_choice])"
      ]
    },
    {
      "cell_type": "markdown",
      "metadata": {
        "id": "XhEWX9VPn2sD"
      },
      "source": [
        "Run the cell below and play around with the treshold above to see results. (Threshold of >= 0.9 is recommended)"
      ]
    },
    {
      "cell_type": "code",
      "execution_count": null,
      "metadata": {
        "colab": {
          "base_uri": "https://localhost:8080/",
          "height": 816,
          "referenced_widgets": [
            "986f7c4005b2425785571b4520779e09"
          ]
        },
        "id": "fLoOZdrpnpIb",
        "outputId": "ebb49c5f-423f-455d-f45f-838a0339f6c4"
      },
      "outputs": [],
      "source": [
        "network"
      ]
    }
  ],
  "metadata": {
    "colab": {
      "collapsed_sections": [],
      "name": "Visualizing multicollinearity .ipynb",
      "provenance": [],
      "toc_visible": true
    },
    "interpreter": {
      "hash": "88279d2366fe020547cde40dd65aa0e3aa662a6ec1f3ca12d88834876c85e1a6"
    },
    "kernelspec": {
      "display_name": "Python 3.8.8 ('base')",
      "language": "python",
      "name": "python3"
    },
    "language_info": {
      "codemirror_mode": {
        "name": "ipython",
        "version": 3
      },
      "file_extension": ".py",
      "mimetype": "text/x-python",
      "name": "python",
      "nbconvert_exporter": "python",
      "pygments_lexer": "ipython3",
      "version": "3.8.8"
    },
    "widgets": {
      "application/vnd.jupyter.widget-state+json": {
        "162fda8929b34d9a8ba043682719d4b2": {
          "model_module": "@jupyter-widgets/controls",
          "model_module_version": "1.5.0",
          "model_name": "SliderStyleModel",
          "state": {
            "_model_module": "@jupyter-widgets/controls",
            "_model_module_version": "1.5.0",
            "_model_name": "SliderStyleModel",
            "_view_count": null,
            "_view_module": "@jupyter-widgets/base",
            "_view_module_version": "1.2.0",
            "_view_name": "StyleView",
            "description_width": "initial",
            "handle_color": null
          }
        },
        "71a5439a26b640ed9b63da2041fbf67e": {
          "model_module": "@jupyter-widgets/controls",
          "model_module_version": "1.5.0",
          "model_name": "FloatSliderModel",
          "state": {
            "_dom_classes": [],
            "_model_module": "@jupyter-widgets/controls",
            "_model_module_version": "1.5.0",
            "_model_name": "FloatSliderModel",
            "_view_count": null,
            "_view_module": "@jupyter-widgets/controls",
            "_view_module_version": "1.5.0",
            "_view_name": "FloatSliderView",
            "continuous_update": false,
            "description": "Threshold",
            "description_tooltip": null,
            "disabled": false,
            "layout": "IPY_MODEL_fea00514b1f7459ab8863d9cbe132bc3",
            "max": 1,
            "min": 0.5,
            "orientation": "horizontal",
            "readout": true,
            "readout_format": ".2f",
            "step": 0.05,
            "style": "IPY_MODEL_162fda8929b34d9a8ba043682719d4b2",
            "value": 0.9
          }
        },
        "986f7c4005b2425785571b4520779e09": {
          "model_module": "jupyterlab-plotly",
          "model_module_version": "^5.5.0",
          "model_name": "FigureModel",
          "state": {
            "_config": {
              "plotlyServerURL": "https://plot.ly"
            },
            "_data": [
              {
                "line": {
                  "color": "MediumPurple",
                  "width": 10
                },
                "marker": {
                  "line": {
                    "color": "MediumPurple",
                    "width": 10
                  },
                  "size": 20
                },
                "mode": "lines",
                "text": [],
                "type": "scatter",
                "uid": "cad4fce3-1ebb-41bc-a337-05b47f220b1e",
                "x": [],
                "y": []
              },
              {
                "hoverinfo": "text",
                "marker": {
                  "color": [],
                  "line": {
                    "width": 1
                  },
                  "size": 50
                },
                "mode": "markers+text",
                "text": [],
                "textfont": {
                  "size": 12
                },
                "textposition": "top center",
                "type": "scatter",
                "uid": "ed6a5191-7300-4bfb-8887-c00f63957393",
                "x": [],
                "y": []
              }
            ],
            "_dom_classes": [],
            "_js2py_layoutDelta": null,
            "_js2py_pointsCallback": null,
            "_js2py_relayout": {},
            "_js2py_restyle": {},
            "_js2py_traceDeltas": null,
            "_js2py_update": {},
            "_last_layout_edit_id": 1,
            "_last_trace_edit_id": 1,
            "_layout": {
              "height": 800,
              "margin": {
                "b": 0,
                "l": 0,
                "r": 0,
                "t": 40
              },
              "showlegend": false,
              "width": 1600
            },
            "_model_module": "jupyterlab-plotly",
            "_model_module_version": "^5.5.0",
            "_model_name": "FigureModel",
            "_py2js_addTraces": {},
            "_py2js_animate": {},
            "_py2js_deleteTraces": {},
            "_py2js_moveTraces": {},
            "_py2js_relayout": null,
            "_py2js_removeLayoutProps": {},
            "_py2js_removeTraceProps": {},
            "_py2js_restyle": {},
            "_py2js_update": null,
            "_view_count": 1,
            "_view_module": "jupyterlab-plotly",
            "_view_module_version": "^5.5.0",
            "_view_name": "FigureView"
          }
        },
        "98b6cea6d2114a9faf82b8f776825352": {
          "model_module": "@jupyter-widgets/base",
          "model_module_version": "1.2.0",
          "model_name": "LayoutModel",
          "state": {
            "_model_module": "@jupyter-widgets/base",
            "_model_module_version": "1.2.0",
            "_model_name": "LayoutModel",
            "_view_count": null,
            "_view_module": "@jupyter-widgets/base",
            "_view_module_version": "1.2.0",
            "_view_name": "LayoutView",
            "align_content": null,
            "align_items": null,
            "align_self": null,
            "border": null,
            "bottom": null,
            "display": null,
            "flex": null,
            "flex_flow": null,
            "grid_area": null,
            "grid_auto_columns": null,
            "grid_auto_flow": null,
            "grid_auto_rows": null,
            "grid_column": null,
            "grid_gap": null,
            "grid_row": null,
            "grid_template_areas": null,
            "grid_template_columns": null,
            "grid_template_rows": null,
            "height": null,
            "justify_content": null,
            "justify_items": null,
            "left": null,
            "margin": null,
            "max_height": null,
            "max_width": null,
            "min_height": null,
            "min_width": null,
            "object_fit": null,
            "object_position": null,
            "order": null,
            "overflow": null,
            "overflow_x": null,
            "overflow_y": null,
            "padding": null,
            "right": null,
            "top": null,
            "visibility": null,
            "width": null
          }
        },
        "9f66f2f5cd4b4f15bc45e481558b817c": {
          "model_module": "@jupyter-widgets/controls",
          "model_module_version": "1.5.0",
          "model_name": "VBoxModel",
          "state": {
            "_dom_classes": [],
            "_model_module": "@jupyter-widgets/controls",
            "_model_module_version": "1.5.0",
            "_model_name": "VBoxModel",
            "_view_count": null,
            "_view_module": "@jupyter-widgets/controls",
            "_view_module_version": "1.5.0",
            "_view_name": "VBoxView",
            "box_style": "",
            "children": [
              "IPY_MODEL_71a5439a26b640ed9b63da2041fbf67e"
            ],
            "layout": "IPY_MODEL_98b6cea6d2114a9faf82b8f776825352"
          }
        },
        "fea00514b1f7459ab8863d9cbe132bc3": {
          "model_module": "@jupyter-widgets/base",
          "model_module_version": "1.2.0",
          "model_name": "LayoutModel",
          "state": {
            "_model_module": "@jupyter-widgets/base",
            "_model_module_version": "1.2.0",
            "_model_name": "LayoutModel",
            "_view_count": null,
            "_view_module": "@jupyter-widgets/base",
            "_view_module_version": "1.2.0",
            "_view_name": "LayoutView",
            "align_content": null,
            "align_items": null,
            "align_self": null,
            "border": null,
            "bottom": null,
            "display": null,
            "flex": null,
            "flex_flow": null,
            "grid_area": null,
            "grid_auto_columns": null,
            "grid_auto_flow": null,
            "grid_auto_rows": null,
            "grid_column": null,
            "grid_gap": null,
            "grid_row": null,
            "grid_template_areas": null,
            "grid_template_columns": null,
            "grid_template_rows": null,
            "height": null,
            "justify_content": null,
            "justify_items": null,
            "left": null,
            "margin": null,
            "max_height": null,
            "max_width": null,
            "min_height": null,
            "min_width": null,
            "object_fit": null,
            "object_position": null,
            "order": null,
            "overflow": null,
            "overflow_x": null,
            "overflow_y": null,
            "padding": null,
            "right": null,
            "top": null,
            "visibility": null,
            "width": "500px"
          }
        }
      }
    }
  },
  "nbformat": 4,
  "nbformat_minor": 0
}
