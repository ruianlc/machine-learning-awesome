{
 "cells": [
  {
   "cell_type": "code",
   "execution_count": 4,
   "metadata": {},
   "outputs": [],
   "source": [
    "# import libraries\n",
    "import pandas as pd\n",
    "import numpy as np\n",
    "import os\n",
    "import matplotlib.pyplot as plt\n",
    "import seaborn as sns\n",
    "import statsmodels.api as sm\n",
    "from sklearn.linear_model import LinearRegression\n",
    "from sklearn.model_selection import train_test_split\n",
    "from sklearn.preprocessing import StandardScaler\n",
    "from sklearn.ensemble import RandomForestClassifier"
   ]
  },
  {
   "cell_type": "code",
   "execution_count": 5,
   "metadata": {},
   "outputs": [],
   "source": [
    "# import data\n",
    "df = pd.read_csv('https://raw.githubusercontent.com/pycaret/pycaret/master/datasets/automobile.csv')"
   ]
  },
  {
   "cell_type": "code",
   "execution_count": 6,
   "metadata": {},
   "outputs": [
    {
     "data": {
      "text/plain": [
       "Index(['symboling', 'normalized-losses', 'make', 'fuel-type', 'aspiration',\n",
       "       'num-of-doors', 'body-style', 'drive-wheels', 'engine-location',\n",
       "       'wheel-base', 'length', 'width', 'height', 'curb-weight', 'engine-type',\n",
       "       'num-of-cylinders', 'engine-size', 'fuel-system', 'bore', 'stroke',\n",
       "       'compression-ratio', 'horsepower', 'peak-rpm', 'city-mpg',\n",
       "       'highway-mpg', 'price'],\n",
       "      dtype='object')"
      ]
     },
     "execution_count": 6,
     "metadata": {},
     "output_type": "execute_result"
    }
   ],
   "source": [
    "df.columns"
   ]
  },
  {
   "cell_type": "markdown",
   "metadata": {},
   "source": [
    "## Data processing"
   ]
  },
  {
   "cell_type": "code",
   "execution_count": 7,
   "metadata": {},
   "outputs": [
    {
     "data": {
      "text/html": [
       "<div>\n",
       "<style scoped>\n",
       "    .dataframe tbody tr th:only-of-type {\n",
       "        vertical-align: middle;\n",
       "    }\n",
       "\n",
       "    .dataframe tbody tr th {\n",
       "        vertical-align: top;\n",
       "    }\n",
       "\n",
       "    .dataframe thead th {\n",
       "        text-align: right;\n",
       "    }\n",
       "</style>\n",
       "<table border=\"1\" class=\"dataframe\">\n",
       "  <thead>\n",
       "    <tr style=\"text-align: right;\">\n",
       "      <th></th>\n",
       "      <th>symboling</th>\n",
       "      <th>normalized-losses</th>\n",
       "      <th>make</th>\n",
       "      <th>fuel-type</th>\n",
       "      <th>aspiration</th>\n",
       "      <th>num-of-doors</th>\n",
       "      <th>body-style</th>\n",
       "      <th>drive-wheels</th>\n",
       "      <th>engine-location</th>\n",
       "      <th>wheel-base</th>\n",
       "      <th>...</th>\n",
       "      <th>engine-size</th>\n",
       "      <th>fuel-system</th>\n",
       "      <th>bore</th>\n",
       "      <th>stroke</th>\n",
       "      <th>compression-ratio</th>\n",
       "      <th>horsepower</th>\n",
       "      <th>peak-rpm</th>\n",
       "      <th>city-mpg</th>\n",
       "      <th>highway-mpg</th>\n",
       "      <th>price</th>\n",
       "    </tr>\n",
       "  </thead>\n",
       "  <tbody>\n",
       "    <tr>\n",
       "      <th>129</th>\n",
       "      <td>2</td>\n",
       "      <td>104.0</td>\n",
       "      <td>saab</td>\n",
       "      <td>gas</td>\n",
       "      <td>std</td>\n",
       "      <td>four</td>\n",
       "      <td>sedan</td>\n",
       "      <td>fwd</td>\n",
       "      <td>front</td>\n",
       "      <td>99.1</td>\n",
       "      <td>...</td>\n",
       "      <td>121</td>\n",
       "      <td>mpfi</td>\n",
       "      <td>3.54</td>\n",
       "      <td>3.07</td>\n",
       "      <td>9.3</td>\n",
       "      <td>110</td>\n",
       "      <td>5250</td>\n",
       "      <td>21</td>\n",
       "      <td>28</td>\n",
       "      <td>12170</td>\n",
       "    </tr>\n",
       "    <tr>\n",
       "      <th>76</th>\n",
       "      <td>1</td>\n",
       "      <td>161.0</td>\n",
       "      <td>mitsubishi</td>\n",
       "      <td>gas</td>\n",
       "      <td>turbo</td>\n",
       "      <td>two</td>\n",
       "      <td>hatchback</td>\n",
       "      <td>fwd</td>\n",
       "      <td>front</td>\n",
       "      <td>93.0</td>\n",
       "      <td>...</td>\n",
       "      <td>98</td>\n",
       "      <td>spdi</td>\n",
       "      <td>3.03</td>\n",
       "      <td>3.39</td>\n",
       "      <td>7.6</td>\n",
       "      <td>102</td>\n",
       "      <td>5500</td>\n",
       "      <td>24</td>\n",
       "      <td>30</td>\n",
       "      <td>7689</td>\n",
       "    </tr>\n",
       "    <tr>\n",
       "      <th>119</th>\n",
       "      <td>1</td>\n",
       "      <td>154.0</td>\n",
       "      <td>plymouth</td>\n",
       "      <td>gas</td>\n",
       "      <td>std</td>\n",
       "      <td>four</td>\n",
       "      <td>sedan</td>\n",
       "      <td>fwd</td>\n",
       "      <td>front</td>\n",
       "      <td>93.7</td>\n",
       "      <td>...</td>\n",
       "      <td>98</td>\n",
       "      <td>2bbl</td>\n",
       "      <td>2.97</td>\n",
       "      <td>3.23</td>\n",
       "      <td>9.4</td>\n",
       "      <td>68</td>\n",
       "      <td>5500</td>\n",
       "      <td>31</td>\n",
       "      <td>38</td>\n",
       "      <td>7609</td>\n",
       "    </tr>\n",
       "    <tr>\n",
       "      <th>102</th>\n",
       "      <td>3</td>\n",
       "      <td>194.0</td>\n",
       "      <td>nissan</td>\n",
       "      <td>gas</td>\n",
       "      <td>turbo</td>\n",
       "      <td>two</td>\n",
       "      <td>hatchback</td>\n",
       "      <td>rwd</td>\n",
       "      <td>front</td>\n",
       "      <td>91.3</td>\n",
       "      <td>...</td>\n",
       "      <td>181</td>\n",
       "      <td>mpfi</td>\n",
       "      <td>3.43</td>\n",
       "      <td>3.27</td>\n",
       "      <td>7.8</td>\n",
       "      <td>200</td>\n",
       "      <td>5200</td>\n",
       "      <td>17</td>\n",
       "      <td>23</td>\n",
       "      <td>19699</td>\n",
       "    </tr>\n",
       "    <tr>\n",
       "      <th>77</th>\n",
       "      <td>3</td>\n",
       "      <td>153.0</td>\n",
       "      <td>mitsubishi</td>\n",
       "      <td>gas</td>\n",
       "      <td>turbo</td>\n",
       "      <td>two</td>\n",
       "      <td>hatchback</td>\n",
       "      <td>fwd</td>\n",
       "      <td>front</td>\n",
       "      <td>96.3</td>\n",
       "      <td>...</td>\n",
       "      <td>110</td>\n",
       "      <td>spdi</td>\n",
       "      <td>3.17</td>\n",
       "      <td>3.46</td>\n",
       "      <td>7.5</td>\n",
       "      <td>116</td>\n",
       "      <td>5500</td>\n",
       "      <td>23</td>\n",
       "      <td>30</td>\n",
       "      <td>9959</td>\n",
       "    </tr>\n",
       "  </tbody>\n",
       "</table>\n",
       "<p>5 rows × 26 columns</p>\n",
       "</div>"
      ],
      "text/plain": [
       "     symboling  normalized-losses        make fuel-type aspiration  \\\n",
       "129          2              104.0        saab       gas        std   \n",
       "76           1              161.0  mitsubishi       gas      turbo   \n",
       "119          1              154.0    plymouth       gas        std   \n",
       "102          3              194.0      nissan       gas      turbo   \n",
       "77           3              153.0  mitsubishi       gas      turbo   \n",
       "\n",
       "    num-of-doors body-style drive-wheels engine-location  wheel-base  ...  \\\n",
       "129         four      sedan          fwd           front        99.1  ...   \n",
       "76           two  hatchback          fwd           front        93.0  ...   \n",
       "119         four      sedan          fwd           front        93.7  ...   \n",
       "102          two  hatchback          rwd           front        91.3  ...   \n",
       "77           two  hatchback          fwd           front        96.3  ...   \n",
       "\n",
       "     engine-size  fuel-system  bore  stroke compression-ratio horsepower  \\\n",
       "129          121         mpfi  3.54    3.07               9.3        110   \n",
       "76            98         spdi  3.03    3.39               7.6        102   \n",
       "119           98         2bbl  2.97    3.23               9.4         68   \n",
       "102          181         mpfi  3.43    3.27               7.8        200   \n",
       "77           110         spdi  3.17    3.46               7.5        116   \n",
       "\n",
       "     peak-rpm city-mpg highway-mpg  price  \n",
       "129      5250       21          28  12170  \n",
       "76       5500       24          30   7689  \n",
       "119      5500       31          38   7609  \n",
       "102      5200       17          23  19699  \n",
       "77       5500       23          30   9959  \n",
       "\n",
       "[5 rows x 26 columns]"
      ]
     },
     "execution_count": 7,
     "metadata": {},
     "output_type": "execute_result"
    }
   ],
   "source": [
    "df.sample(5)"
   ]
  },
  {
   "cell_type": "code",
   "execution_count": 8,
   "metadata": {},
   "outputs": [
    {
     "data": {
      "text/plain": [
       "(202, 26)"
      ]
     },
     "execution_count": 8,
     "metadata": {},
     "output_type": "execute_result"
    }
   ],
   "source": [
    "df.shape"
   ]
  },
  {
   "cell_type": "code",
   "execution_count": 9,
   "metadata": {},
   "outputs": [],
   "source": [
    "# remove rows with '?'\n",
    "df = df[df['bore']!='?']\n",
    "df = df[df['stroke']!='?']\n",
    "df = df[df['horsepower']!='?']\n",
    "df = df[df['peak-rpm']!='?']"
   ]
  },
  {
   "cell_type": "code",
   "execution_count": 10,
   "metadata": {},
   "outputs": [],
   "source": [
    "# convert data type\n",
    "df['bore'] = df['bore'].astype('float')\n",
    "df['stroke'] = df['stroke'].astype('float')\n",
    "df['horsepower'] = df['horsepower'].astype('int')\n",
    "df['peak-rpm'] = df['peak-rpm'].astype('int')"
   ]
  },
  {
   "cell_type": "code",
   "execution_count": 11,
   "metadata": {},
   "outputs": [],
   "source": [
    "cat_cols = df.select_dtypes(include='O').columns.to_list()\n",
    "df[cat_cols] = df[cat_cols].astype('category')"
   ]
  },
  {
   "cell_type": "markdown",
   "metadata": {},
   "source": [
    "# Feature selection strategies"
   ]
  },
  {
   "cell_type": "markdown",
   "metadata": {},
   "source": [
    "### Unused columns"
   ]
  },
  {
   "cell_type": "code",
   "execution_count": null,
   "metadata": {},
   "outputs": [],
   "source": [
    "# df = df.drop(columns=['Id'])"
   ]
  },
  {
   "cell_type": "markdown",
   "metadata": {},
   "source": [
    "### Columns with missing values"
   ]
  },
  {
   "cell_type": "code",
   "execution_count": 12,
   "metadata": {},
   "outputs": [
    {
     "data": {
      "text/plain": [
       "symboling             0\n",
       "normalized-losses    35\n",
       "make                  0\n",
       "fuel-type             0\n",
       "aspiration            0\n",
       "num-of-doors          2\n",
       "body-style            0\n",
       "drive-wheels          0\n",
       "engine-location       0\n",
       "wheel-base            0\n",
       "length                0\n",
       "width                 0\n",
       "height                0\n",
       "curb-weight           0\n",
       "engine-type           0\n",
       "num-of-cylinders      0\n",
       "engine-size           0\n",
       "fuel-system           0\n",
       "bore                  0\n",
       "stroke                0\n",
       "compression-ratio     0\n",
       "horsepower            0\n",
       "peak-rpm              0\n",
       "city-mpg              0\n",
       "highway-mpg           0\n",
       "price                 0\n",
       "dtype: int64"
      ]
     },
     "execution_count": 12,
     "metadata": {},
     "output_type": "execute_result"
    }
   ],
   "source": [
    "# total null values per column\n",
    "df.isnull().sum()"
   ]
  },
  {
   "cell_type": "code",
   "execution_count": 13,
   "metadata": {},
   "outputs": [],
   "source": [
    "# drop column\n",
    "df = df.drop(['normalized-losses'], axis=1)"
   ]
  },
  {
   "cell_type": "code",
   "execution_count": 14,
   "metadata": {},
   "outputs": [
    {
     "data": {
      "text/plain": [
       "25"
      ]
     },
     "execution_count": 14,
     "metadata": {},
     "output_type": "execute_result"
    }
   ],
   "source": [
    "# remaining number of columns\n",
    "len(df.columns)"
   ]
  },
  {
   "cell_type": "markdown",
   "metadata": {},
   "source": [
    "### Uncorrelated features"
   ]
  },
  {
   "cell_type": "markdown",
   "metadata": {},
   "source": [
    "#### a) Numeric features"
   ]
  },
  {
   "cell_type": "code",
   "execution_count": 17,
   "metadata": {
    "scrolled": false
   },
   "outputs": [
    {
     "data": {
      "text/plain": [
       "<AxesSubplot:>"
      ]
     },
     "execution_count": 17,
     "metadata": {},
     "output_type": "execute_result"
    },
    {
     "data": {
      "image/png": "[encoded data removed]",
      "text/plain": [
       "<Figure size 288x576 with 1 Axes>"
      ]
     },
     "metadata": {
      "needs_background": "light"
     },
     "output_type": "display_data"
    }
   ],
   "source": [
    "# correlation between y and features\n",
    "(df.corr().loc['price']\n",
    " .plot(kind='barh', figsize=(4,8))) "
   ]
  },
  {
   "cell_type": "code",
   "execution_count": 18,
   "metadata": {},
   "outputs": [],
   "source": [
    "# drop numeric features  not correlation with the target (threshold <0.2)\n",
    "corr = abs(df.corr().loc['price'])\n",
    "corr = corr[corr<0.2]\n",
    "cols_to_drop = corr.index.to_list()\n",
    "df = df.drop(cols_to_drop, axis=1)"
   ]
  },
  {
   "cell_type": "code",
   "execution_count": 19,
   "metadata": {},
   "outputs": [
    {
     "data": {
      "text/plain": [
       "20"
      ]
     },
     "execution_count": 19,
     "metadata": {},
     "output_type": "execute_result"
    }
   ],
   "source": [
    "len(df.columns)"
   ]
  },
  {
   "cell_type": "markdown",
   "metadata": {},
   "source": [
    "#### b) Categorical features"
   ]
  },
  {
   "cell_type": "code",
   "execution_count": 20,
   "metadata": {},
   "outputs": [
    {
     "data": {
      "text/plain": [
       "<AxesSubplot:xlabel='fuel-type', ylabel='price'>"
      ]
     },
     "execution_count": 20,
     "metadata": {},
     "output_type": "execute_result"
    },
    {
     "data": {
      "image/png": "[encoded data removed]",
      "text/plain": [
       "<Figure size 432x288 with 1 Axes>"
      ]
     },
     "metadata": {
      "needs_background": "light"
     },
     "output_type": "display_data"
    }
   ],
   "source": [
    "sns.boxplot(y = 'price', x = 'fuel-type', data=df)"
   ]
  },
  {
   "cell_type": "markdown",
   "metadata": {},
   "source": [
    "### Low varience features"
   ]
  },
  {
   "cell_type": "code",
   "execution_count": 21,
   "metadata": {
    "scrolled": false
   },
   "outputs": [
    {
     "data": {
      "text/plain": [
       "wheel-base       37.94025405546827\n",
       "length           155.9424623233909\n",
       "width            4.570510465724747\n",
       "curb-weight      275205.6007064364\n",
       "engine-size      1708.835871271584\n",
       "bore           0.07456791993720567\n",
       "horsepower      1427.3492412349553\n",
       "city-mpg         40.97485609628467\n",
       "highway-mpg      46.57443746729464\n",
       "price            65020222.64615383\n",
       "dtype: object"
      ]
     },
     "execution_count": 21,
     "metadata": {},
     "output_type": "execute_result"
    }
   ],
   "source": [
    "# variance of numeric features\n",
    "(df\n",
    " .select_dtypes(include=np.number)\n",
    " .var()\n",
    " .astype('str'))"
   ]
  },
  {
   "cell_type": "code",
   "execution_count": 22,
   "metadata": {},
   "outputs": [
    {
     "data": {
      "text/plain": [
       "count    196.000000\n",
       "mean       3.331684\n",
       "std        0.273071\n",
       "min        2.540000\n",
       "25%        3.150000\n",
       "50%        3.310000\n",
       "75%        3.590000\n",
       "max        3.940000\n",
       "Name: bore, dtype: float64"
      ]
     },
     "execution_count": 22,
     "metadata": {},
     "output_type": "execute_result"
    }
   ],
   "source": [
    "df['bore'].describe()"
   ]
  },
  {
   "cell_type": "markdown",
   "metadata": {},
   "source": [
    "### Multicolinearity"
   ]
  },
  {
   "cell_type": "markdown",
   "metadata": {},
   "source": [
    "#### a) Numeric features"
   ]
  },
  {
   "cell_type": "code",
   "execution_count": 23,
   "metadata": {
    "scrolled": false
   },
   "outputs": [
    {
     "data": {
      "image/png": "[encoded data removed]",
      "text/plain": [
       "<Figure size 1152x720 with 1 Axes>"
      ]
     },
     "metadata": {},
     "output_type": "display_data"
    }
   ],
   "source": [
    "sns.set(rc={'figure.figsize':(16,10)})\n",
    "sns.heatmap(df.corr(),\n",
    "            annot=True,\n",
    "            linewidths=.5,\n",
    "            center=0,\n",
    "            cbar=False,\n",
    "            cmap=\"PiYG\")\n",
    "plt.show()"
   ]
  },
  {
   "cell_type": "code",
   "execution_count": 24,
   "metadata": {},
   "outputs": [],
   "source": [
    "# drop correlated features\n",
    "df = df.drop(['length', 'width', 'curb-weight', 'engine-size', 'city-mpg'], axis=1)"
   ]
  },
  {
   "cell_type": "code",
   "execution_count": 25,
   "metadata": {},
   "outputs": [
    {
     "data": {
      "text/plain": [
       "15"
      ]
     },
     "execution_count": 25,
     "metadata": {},
     "output_type": "execute_result"
    }
   ],
   "source": [
    "len(df.columns)"
   ]
  },
  {
   "cell_type": "markdown",
   "metadata": {},
   "source": [
    "#### b) Categorical variables"
   ]
  },
  {
   "cell_type": "code",
   "execution_count": 26,
   "metadata": {
    "scrolled": false
   },
   "outputs": [
    {
     "data": {
      "text/html": [
       "<div>\n",
       "<style scoped>\n",
       "    .dataframe tbody tr th:only-of-type {\n",
       "        vertical-align: middle;\n",
       "    }\n",
       "\n",
       "    .dataframe tbody tr th {\n",
       "        vertical-align: top;\n",
       "    }\n",
       "\n",
       "    .dataframe thead th {\n",
       "        text-align: right;\n",
       "    }\n",
       "</style>\n",
       "<table border=\"1\" class=\"dataframe\">\n",
       "  <thead>\n",
       "    <tr style=\"text-align: right;\">\n",
       "      <th></th>\n",
       "      <th>fuel-type</th>\n",
       "      <th>body-style</th>\n",
       "    </tr>\n",
       "  </thead>\n",
       "  <tbody>\n",
       "    <tr>\n",
       "      <th>119</th>\n",
       "      <td>gas</td>\n",
       "      <td>sedan</td>\n",
       "    </tr>\n",
       "    <tr>\n",
       "      <th>138</th>\n",
       "      <td>gas</td>\n",
       "      <td>sedan</td>\n",
       "    </tr>\n",
       "    <tr>\n",
       "      <th>42</th>\n",
       "      <td>gas</td>\n",
       "      <td>sedan</td>\n",
       "    </tr>\n",
       "    <tr>\n",
       "      <th>193</th>\n",
       "      <td>gas</td>\n",
       "      <td>wagon</td>\n",
       "    </tr>\n",
       "    <tr>\n",
       "      <th>48</th>\n",
       "      <td>gas</td>\n",
       "      <td>hatchback</td>\n",
       "    </tr>\n",
       "  </tbody>\n",
       "</table>\n",
       "</div>"
      ],
      "text/plain": [
       "    fuel-type body-style\n",
       "119       gas      sedan\n",
       "138       gas      sedan\n",
       "42        gas      sedan\n",
       "193       gas      wagon\n",
       "48        gas  hatchback"
      ]
     },
     "execution_count": 26,
     "metadata": {},
     "output_type": "execute_result"
    }
   ],
   "source": [
    "df_cat = df[['fuel-type', 'body-style']]\n",
    "df_cat.sample(5)"
   ]
  },
  {
   "cell_type": "code",
   "execution_count": 27,
   "metadata": {},
   "outputs": [
    {
     "data": {
      "text/html": [
       "<div>\n",
       "<style scoped>\n",
       "    .dataframe tbody tr th:only-of-type {\n",
       "        vertical-align: middle;\n",
       "    }\n",
       "\n",
       "    .dataframe tbody tr th {\n",
       "        vertical-align: top;\n",
       "    }\n",
       "\n",
       "    .dataframe thead th {\n",
       "        text-align: right;\n",
       "    }\n",
       "</style>\n",
       "<table border=\"1\" class=\"dataframe\">\n",
       "  <thead>\n",
       "    <tr style=\"text-align: right;\">\n",
       "      <th>body-style</th>\n",
       "      <th>convertible</th>\n",
       "      <th>hardtop</th>\n",
       "      <th>hatchback</th>\n",
       "      <th>sedan</th>\n",
       "      <th>wagon</th>\n",
       "    </tr>\n",
       "    <tr>\n",
       "      <th>fuel-type</th>\n",
       "      <th></th>\n",
       "      <th></th>\n",
       "      <th></th>\n",
       "      <th></th>\n",
       "      <th></th>\n",
       "    </tr>\n",
       "  </thead>\n",
       "  <tbody>\n",
       "    <tr>\n",
       "      <th>diesel</th>\n",
       "      <td>0</td>\n",
       "      <td>1</td>\n",
       "      <td>1</td>\n",
       "      <td>15</td>\n",
       "      <td>3</td>\n",
       "    </tr>\n",
       "    <tr>\n",
       "      <th>gas</th>\n",
       "      <td>6</td>\n",
       "      <td>7</td>\n",
       "      <td>62</td>\n",
       "      <td>80</td>\n",
       "      <td>21</td>\n",
       "    </tr>\n",
       "  </tbody>\n",
       "</table>\n",
       "</div>"
      ],
      "text/plain": [
       "body-style  convertible  hardtop  hatchback  sedan  wagon\n",
       "fuel-type                                                \n",
       "diesel                0        1          1     15      3\n",
       "gas                   6        7         62     80     21"
      ]
     },
     "execution_count": 27,
     "metadata": {},
     "output_type": "execute_result"
    }
   ],
   "source": [
    "crosstab = pd.crosstab(df_cat['fuel-type'], df_cat['body-style'])\n",
    "crosstab"
   ]
  },
  {
   "cell_type": "code",
   "execution_count": 28,
   "metadata": {},
   "outputs": [
    {
     "data": {
      "text/plain": [
       "(9.205409356725148,\n",
       " 0.05616535232132477,\n",
       " 4,\n",
       " array([[ 0.6122449 ,  0.81632653,  6.42857143,  9.69387755,  2.44897959],\n",
       "        [ 5.3877551 ,  7.18367347, 56.57142857, 85.30612245, 21.55102041]]))"
      ]
     },
     "execution_count": 28,
     "metadata": {},
     "output_type": "execute_result"
    }
   ],
   "source": [
    "from scipy.stats import chi2_contingency\n",
    "chi2_contingency(crosstab)"
   ]
  },
  {
   "cell_type": "markdown",
   "metadata": {},
   "source": [
    "---"
   ]
  },
  {
   "cell_type": "markdown",
   "metadata": {},
   "source": [
    "# PART 2"
   ]
  },
  {
   "cell_type": "code",
   "execution_count": 29,
   "metadata": {},
   "outputs": [],
   "source": [
    "# drop rows with missing values\n",
    "df = df.dropna()"
   ]
  },
  {
   "cell_type": "code",
   "execution_count": 30,
   "metadata": {},
   "outputs": [],
   "source": [
    "# get dummies for categorical features\n",
    "df = pd.get_dummies(df, drop_first=True)"
   ]
  },
  {
   "cell_type": "code",
   "execution_count": 31,
   "metadata": {},
   "outputs": [],
   "source": [
    "# X features\n",
    "X = df.drop('price', axis=1)\n",
    "\n",
    "# y target\n",
    "y = df['price']"
   ]
  },
  {
   "cell_type": "code",
   "execution_count": 32,
   "metadata": {},
   "outputs": [],
   "source": [
    "# split data into training and testing set\n",
    "X_train, X_test, y_train, y_test = train_test_split(X, y, test_size=0.3, random_state=42)"
   ]
  },
  {
   "cell_type": "code",
   "execution_count": 33,
   "metadata": {},
   "outputs": [],
   "source": [
    "# scaling\n",
    "scaler = StandardScaler()\n",
    "X_train = scaler.fit_transform(X_train)\n",
    "X_test = scaler.fit_transform(X_test)"
   ]
  },
  {
   "cell_type": "code",
   "execution_count": 34,
   "metadata": {},
   "outputs": [],
   "source": [
    "# convert back to dataframe\n",
    "X_train = pd.DataFrame(X_train, columns = X.columns.to_list())\n",
    "X_test = pd.DataFrame(X_test, columns = X.columns.to_list())"
   ]
  },
  {
   "cell_type": "markdown",
   "metadata": {},
   "source": [
    "### Feature coefficients"
   ]
  },
  {
   "cell_type": "code",
   "execution_count": 35,
   "metadata": {},
   "outputs": [],
   "source": [
    "# instantiate model\n",
    "model = LinearRegression() "
   ]
  },
  {
   "cell_type": "code",
   "execution_count": 36,
   "metadata": {},
   "outputs": [
    {
     "data": {
      "text/plain": [
       "LinearRegression()"
      ]
     },
     "execution_count": 36,
     "metadata": {},
     "output_type": "execute_result"
    }
   ],
   "source": [
    "# fit\n",
    "model.fit(X_train, y_train)"
   ]
  },
  {
   "cell_type": "code",
   "execution_count": 37,
   "metadata": {
    "scrolled": false
   },
   "outputs": [
    {
     "data": {
      "text/plain": [
       "<AxesSubplot:>"
      ]
     },
     "execution_count": 37,
     "metadata": {},
     "output_type": "execute_result"
    },
    {
     "data": {
      "image/png": "[encoded data removed]",
      "text/plain": [
       "<Figure size 288x720 with 1 Axes>"
      ]
     },
     "metadata": {},
     "output_type": "display_data"
    }
   ],
   "source": [
    "# feature coefficients\n",
    "coeffs = model.coef_\n",
    "\n",
    "# visualizing coefficients\n",
    "index = X_train.columns.tolist()\n",
    "\n",
    "(pd.DataFrame(coeffs, index = index, columns = ['coeff']).sort_values(by = 'coeff')\n",
    " .plot(kind='barh', figsize=(4,10)))\n",
    "\n",
    "# add this to regression notebook"
   ]
  },
  {
   "cell_type": "code",
   "execution_count": 38,
   "metadata": {},
   "outputs": [],
   "source": [
    "# filter variables near zero coefficient value\n",
    "temp = pd.DataFrame(coeffs, index = index, columns = ['coeff']).sort_values(by = 'coeff')\n",
    "temp = temp[(temp['coeff']>1) | (temp['coeff']< -1)]\n",
    "\n",
    "# drop features\n",
    "cols_coeff = temp.index.to_list()\n",
    "X_train = X_train[cols_coeff]\n",
    "X_test = X_test[cols_coeff]"
   ]
  },
  {
   "cell_type": "markdown",
   "metadata": {},
   "source": [
    "### _p_ value"
   ]
  },
  {
   "cell_type": "code",
   "execution_count": 39,
   "metadata": {
    "scrolled": false
   },
   "outputs": [
    {
     "name": "stdout",
     "output_type": "stream",
     "text": [
      "                            OLS Regression Results                            \n",
      "==============================================================================\n",
      "Dep. Variable:                  price   R-squared:                       0.951\n",
      "Model:                            OLS   Adj. R-squared:                  0.936\n",
      "Method:                 Least Squares   F-statistic:                     62.39\n",
      "Date:                Sat, 14 May 2022   Prob (F-statistic):           2.82e-76\n",
      "Time:                        18:04:20   Log-Likelihood:                -1727.5\n",
      "No. Observations:                 194   AIC:                             3549.\n",
      "Df Residuals:                     147   BIC:                             3703.\n",
      "Df Model:                          46                                         \n",
      "Covariance Type:            nonrobust                                         \n",
      "===========================================================================================\n",
      "                              coef    std err          t      P>|t|      [0.025      0.975]\n",
      "-------------------------------------------------------------------------------------------\n",
      "wheel-base                281.6439     71.285      3.951      0.000     140.768     422.520\n",
      "bore                      465.6075   1396.454      0.333      0.739   -2294.111    3225.326\n",
      "horsepower                 97.4677     18.432      5.288      0.000      61.041     133.894\n",
      "highway-mpg                49.4275     66.148      0.747      0.456     -81.296     180.151\n",
      "make_audi                 665.4536   2291.555      0.290      0.772   -3863.193    5194.100\n",
      "make_bmw                 4928.9462   2184.626      2.256      0.026     611.616    9246.277\n",
      "make_chevrolet          -4047.0002   2237.458     -1.809      0.073   -8468.740     374.739\n",
      "make_dodge              -3778.6720   1799.567     -2.100      0.037   -7335.036    -222.308\n",
      "make_honda              -1186.7246   2246.382     -0.528      0.598   -5626.099    3252.650\n",
      "make_isuzu              -4929.0743   2712.041     -1.817      0.071   -1.03e+04     430.551\n",
      "make_jaguar              8086.5240   2432.715      3.324      0.001    3278.912    1.29e+04\n",
      "make_mazda              -2276.5393   1757.349     -1.295      0.197   -5749.471    1196.392\n",
      "make_mercedes-benz       3863.6128   2651.200      1.457      0.147   -1375.778    9103.003\n",
      "make_mercury            -6789.2161   2856.436     -2.377      0.019   -1.24e+04   -1144.232\n",
      "make_mitsubishi         -3882.5735   1833.689     -2.117      0.036   -7506.371    -258.776\n",
      "make_nissan             -3179.6806   1686.183     -1.886      0.061   -6511.972     152.610\n",
      "make_peugot              2069.3643   1763.148      1.174      0.242   -1415.028    5553.757\n",
      "make_plymouth           -3941.6185   1813.579     -2.173      0.031   -7525.673    -357.564\n",
      "make_porsche             4750.4432   2837.617      1.674      0.096    -857.350    1.04e+04\n",
      "make_saab                 -19.1303   1900.566     -0.010      0.992   -3775.092    3736.831\n",
      "make_subaru             -2986.7875   1653.786     -1.806      0.073   -6255.055     281.480\n",
      "make_toyota             -3747.9903   1614.208     -2.322      0.022   -6938.042    -557.938\n",
      "make_volkswagen         -2441.5832   1761.095     -1.386      0.168   -5921.917    1038.750\n",
      "make_volvo              -1375.1368   1963.586     -0.700      0.485   -5255.641    2505.368\n",
      "fuel-type_gas             -1.2e+04   8417.086     -1.426      0.156   -2.86e+04    4630.539\n",
      "aspiration_turbo          818.9923    752.036      1.089      0.278    -667.206    2305.191\n",
      "num-of-doors_two         -337.3562    544.378     -0.620      0.536   -1413.174     738.462\n",
      "body-style_hardtop      -4080.8676   1284.060     -3.178      0.002   -6618.469   -1543.266\n",
      "body-style_hatchback    -4367.5343   1237.259     -3.530      0.001   -6812.648   -1922.421\n",
      "body-style_sedan        -4594.7805   1299.330     -3.536      0.001   -7162.560   -2027.001\n",
      "body-style_wagon        -4997.1786   1396.995     -3.577      0.000   -7757.968   -2236.390\n",
      "drive-wheels_fwd        -1527.3479    948.503     -1.610      0.109   -3401.812     347.116\n",
      "drive-wheels_rwd         -512.1274   1243.703     -0.412      0.681   -2969.975    1945.721\n",
      "engine-location_rear     4331.6865   2028.645      2.135      0.034     322.610    8340.763\n",
      "engine-type_l           -2940.3333   1538.921     -1.911      0.058   -5981.600     100.934\n",
      "engine-type_ohc          2382.4376   1040.789      2.289      0.023     325.596    4439.279\n",
      "engine-type_ohcf         1344.8990   1134.361      1.186      0.238    -896.863    3586.661\n",
      "engine-type_ohcv         -263.6340   1329.622     -0.198      0.843   -2891.278    2364.010\n",
      "num-of-cylinders_five   -1.073e+04   2287.713     -4.689      0.000   -1.52e+04   -6206.512\n",
      "num-of-cylinders_four   -1.253e+04   2863.313     -4.375      0.000   -1.82e+04   -6868.864\n",
      "num-of-cylinders_six    -9596.2807   2503.113     -3.834      0.000   -1.45e+04   -4649.546\n",
      "num-of-cylinders_three  -5009.6976   2654.457     -1.887      0.061   -1.03e+04     236.130\n",
      "num-of-cylinders_twelve -1.204e+04   4096.423     -2.939      0.004   -2.01e+04   -3943.184\n",
      "fuel-system_2bbl         1833.5127   1668.592      1.099      0.274   -1464.015    5131.040\n",
      "fuel-system_idi         -8813.9717   8598.155     -1.025      0.307   -2.58e+04    8177.988\n",
      "fuel-system_mfi           299.5928   2996.654      0.100      0.920   -5622.494    6221.680\n",
      "fuel-system_mpfi          910.8974   1747.280      0.521      0.603   -2542.136    4363.930\n",
      "fuel-system_spdi          355.9221   2084.590      0.171      0.865   -3763.714    4475.558\n",
      "fuel-system_spfi         4502.3426   3369.808      1.336      0.184   -2157.184    1.12e+04\n",
      "==============================================================================\n",
      "Omnibus:                       68.902   Durbin-Watson:                   1.503\n",
      "Prob(Omnibus):                  0.000   Jarque-Bera (JB):              328.913\n",
      "Skew:                           1.276   Prob(JB):                     3.78e-72\n",
      "Kurtosis:                       8.846   Cond. No.                     1.37e+16\n",
      "==============================================================================\n",
      "\n",
      "Notes:\n",
      "[1] Standard Errors assume that the covariance matrix of the errors is correctly specified.\n",
      "[2] The smallest eigenvalue is 2.29e-26. This might indicate that there are\n",
      "strong multicollinearity problems or that the design matrix is singular.\n"
     ]
    }
   ],
   "source": [
    "ols = sm.OLS(y, X).fit()\n",
    "print(ols.summary())"
   ]
  },
  {
   "cell_type": "markdown",
   "metadata": {},
   "source": [
    "### Variance Inflation Factor (VIF)"
   ]
  },
  {
   "cell_type": "code",
   "execution_count": 40,
   "metadata": {
    "scrolled": true
   },
   "outputs": [
    {
     "name": "stderr",
     "output_type": "stream",
     "text": [
      "d:\\Anaconda\\lib\\site-packages\\statsmodels\\stats\\outliers_influence.py:193: RuntimeWarning: divide by zero encountered in double_scalars\n",
      "  vif = 1. / (1. - r_squared_i)\n"
     ]
    }
   ],
   "source": [
    "from statsmodels.stats.outliers_influence import variance_inflation_factor\n",
    "vif = pd.Series([variance_inflation_factor(X.values, i) for i in range(X.shape[1])], index=X.columns)"
   ]
  },
  {
   "cell_type": "code",
   "execution_count": 41,
   "metadata": {},
   "outputs": [
    {
     "data": {
      "text/html": [
       "<div>\n",
       "<style scoped>\n",
       "    .dataframe tbody tr th:only-of-type {\n",
       "        vertical-align: middle;\n",
       "    }\n",
       "\n",
       "    .dataframe tbody tr th {\n",
       "        vertical-align: top;\n",
       "    }\n",
       "\n",
       "    .dataframe thead th {\n",
       "        text-align: right;\n",
       "    }\n",
       "</style>\n",
       "<table border=\"1\" class=\"dataframe\">\n",
       "  <thead>\n",
       "    <tr style=\"text-align: right;\">\n",
       "      <th></th>\n",
       "      <th>vif</th>\n",
       "    </tr>\n",
       "  </thead>\n",
       "  <tbody>\n",
       "    <tr>\n",
       "      <th>engine-type_ohc</th>\n",
       "      <td>9.832494</td>\n",
       "    </tr>\n",
       "    <tr>\n",
       "      <th>body-style_wagon</th>\n",
       "      <td>9.788068</td>\n",
       "    </tr>\n",
       "    <tr>\n",
       "      <th>make_mitsubishi</th>\n",
       "      <td>9.725685</td>\n",
       "    </tr>\n",
       "    <tr>\n",
       "      <th>highway-mpg</th>\n",
       "      <td>9.344857</td>\n",
       "    </tr>\n",
       "    <tr>\n",
       "      <th>wheel-base</th>\n",
       "      <td>8.932013</td>\n",
       "    </tr>\n",
       "    <tr>\n",
       "      <th>fuel-system_spdi</th>\n",
       "      <td>8.894106</td>\n",
       "    </tr>\n",
       "    <tr>\n",
       "      <th>make_bmw</th>\n",
       "      <td>8.729793</td>\n",
       "    </tr>\n",
       "    <tr>\n",
       "      <th>make_volkswagen</th>\n",
       "      <td>8.326544</td>\n",
       "    </tr>\n",
       "    <tr>\n",
       "      <th>make_mazda</th>\n",
       "      <td>8.291162</td>\n",
       "    </tr>\n",
       "    <tr>\n",
       "      <th>make_porsche</th>\n",
       "      <td>7.522600</td>\n",
       "    </tr>\n",
       "    <tr>\n",
       "      <th>make_audi</th>\n",
       "      <td>7.281424</td>\n",
       "    </tr>\n",
       "    <tr>\n",
       "      <th>bore</th>\n",
       "      <td>6.718156</td>\n",
       "    </tr>\n",
       "    <tr>\n",
       "      <th>make_dodge</th>\n",
       "      <td>5.923599</td>\n",
       "    </tr>\n",
       "    <tr>\n",
       "      <th>make_plymouth</th>\n",
       "      <td>5.292481</td>\n",
       "    </tr>\n",
       "    <tr>\n",
       "      <th>engine-type_ohcv</th>\n",
       "      <td>5.113583</td>\n",
       "    </tr>\n",
       "    <tr>\n",
       "      <th>make_saab</th>\n",
       "      <td>5.008663</td>\n",
       "    </tr>\n",
       "    <tr>\n",
       "      <th>make_jaguar</th>\n",
       "      <td>4.168538</td>\n",
       "    </tr>\n",
       "    <tr>\n",
       "      <th>aspiration_turbo</th>\n",
       "      <td>3.954427</td>\n",
       "    </tr>\n",
       "    <tr>\n",
       "      <th>make_chevrolet</th>\n",
       "      <td>3.526236</td>\n",
       "    </tr>\n",
       "    <tr>\n",
       "      <th>make_isuzu</th>\n",
       "      <td>3.471926</td>\n",
       "    </tr>\n",
       "    <tr>\n",
       "      <th>num-of-doors_two</th>\n",
       "      <td>3.334352</td>\n",
       "    </tr>\n",
       "    <tr>\n",
       "      <th>body-style_hardtop</th>\n",
       "      <td>3.015922</td>\n",
       "    </tr>\n",
       "    <tr>\n",
       "      <th>fuel-system_mfi</th>\n",
       "      <td>2.130479</td>\n",
       "    </tr>\n",
       "  </tbody>\n",
       "</table>\n",
       "</div>"
      ],
      "text/plain": [
       "                         vif\n",
       "engine-type_ohc     9.832494\n",
       "body-style_wagon    9.788068\n",
       "make_mitsubishi     9.725685\n",
       "highway-mpg         9.344857\n",
       "wheel-base          8.932013\n",
       "fuel-system_spdi    8.894106\n",
       "make_bmw            8.729793\n",
       "make_volkswagen     8.326544\n",
       "make_mazda          8.291162\n",
       "make_porsche        7.522600\n",
       "make_audi           7.281424\n",
       "bore                6.718156\n",
       "make_dodge          5.923599\n",
       "make_plymouth       5.292481\n",
       "engine-type_ohcv    5.113583\n",
       "make_saab           5.008663\n",
       "make_jaguar         4.168538\n",
       "aspiration_turbo    3.954427\n",
       "make_chevrolet      3.526236\n",
       "make_isuzu          3.471926\n",
       "num-of-doors_two    3.334352\n",
       "body-style_hardtop  3.015922\n",
       "fuel-system_mfi     2.130479"
      ]
     },
     "execution_count": 41,
     "metadata": {},
     "output_type": "execute_result"
    }
   ],
   "source": [
    "index = X_train.columns.tolist()\n",
    "vif_df = pd.DataFrame(vif, index = index, columns = ['vif']).sort_values(by = 'vif', ascending=False)\n",
    "vif_df[vif_df['vif']<10]"
   ]
  },
  {
   "cell_type": "markdown",
   "metadata": {},
   "source": [
    "### Feature importance/impurity based feature selection"
   ]
  },
  {
   "cell_type": "code",
   "execution_count": null,
   "metadata": {},
   "outputs": [],
   "source": [
    "# instantiate model\n",
    "model = RandomForestClassifier(n_estimators=200, random_state=0)\n",
    "# fit model\n",
    "model.fit(X,y)"
   ]
  },
  {
   "cell_type": "code",
   "execution_count": null,
   "metadata": {},
   "outputs": [],
   "source": [
    "#  feature importance\n",
    "importances = model.feature_importances_\n",
    "\n",
    "# visualization\n",
    "cols = X.columns\n",
    "(pd.DataFrame(importances, cols, columns = ['importance'])\n",
    " .sort_values(by='importance', ascending=True)\n",
    " .plot(kind='barh', figsize=(4,10))\n",
    ");"
   ]
  },
  {
   "cell_type": "code",
   "execution_count": null,
   "metadata": {},
   "outputs": [],
   "source": [
    "# calculate standard deviation of feature importances \n",
    "std = np.std([i.feature_importances_ for i in model.estimators_], axis=0)\n",
    "\n",
    "# visualization\n",
    "feat_with_importance  = pd.Series(importances, X.columns)\n",
    "fig, ax = plt.subplots(figsize=(12,5))\n",
    "feat_with_importance.plot.bar(yerr=std, ax=ax)\n",
    "ax.set_title(\"Feature importances\")\n",
    "ax.set_ylabel(\"Mean decrease in impurity\")\n",
    "fig.tight_layout()"
   ]
  },
  {
   "cell_type": "markdown",
   "metadata": {},
   "source": [
    "### Automated feature selection with `sci-kit learn` "
   ]
  },
  {
   "cell_type": "code",
   "execution_count": null,
   "metadata": {},
   "outputs": [],
   "source": [
    "# import modules\n",
    "from sklearn.feature_selection import (SelectKBest, chi2, SelectPercentile, SelectFromModel, \n",
    "                                       SequentialFeatureSelector, SequentialFeatureSelector)\n",
    "                                       "
   ]
  },
  {
   "cell_type": "markdown",
   "metadata": {},
   "source": [
    "#### a) Chi-squared based technique"
   ]
  },
  {
   "cell_type": "code",
   "execution_count": null,
   "metadata": {},
   "outputs": [],
   "source": [
    "# select K best features\n",
    "X_best = SelectKBest(chi2, k=10).fit_transform(X,y) "
   ]
  },
  {
   "cell_type": "code",
   "execution_count": null,
   "metadata": {},
   "outputs": [],
   "source": [
    "# number of best features\n",
    "X_best.shape[1]"
   ]
  },
  {
   "cell_type": "code",
   "execution_count": null,
   "metadata": {},
   "outputs": [],
   "source": [
    "# keep 75% top features \n",
    "X_top = SelectPercentile(chi2, percentile = 75).fit_transform(X,y)\n",
    "\n",
    "# number of best features\n",
    "X_top.shape[1]"
   ]
  },
  {
   "cell_type": "markdown",
   "metadata": {},
   "source": [
    "#### b) Regularization"
   ]
  },
  {
   "cell_type": "code",
   "execution_count": null,
   "metadata": {},
   "outputs": [],
   "source": [
    "# implement algorithm\n",
    "from sklearn.svm import LinearSVC\n",
    "model = LinearSVC(penalty= 'l1', C = 0.002, dual=False)\n",
    "model.fit(X,y)"
   ]
  },
  {
   "cell_type": "code",
   "execution_count": null,
   "metadata": {},
   "outputs": [],
   "source": [
    "# select features using the meta transformer\n",
    "selector = SelectFromModel(estimator = model, prefit=True)"
   ]
  },
  {
   "cell_type": "code",
   "execution_count": null,
   "metadata": {},
   "outputs": [],
   "source": [
    "X_new = selector.transform(X)"
   ]
  },
  {
   "cell_type": "code",
   "execution_count": null,
   "metadata": {},
   "outputs": [],
   "source": [
    "X_new.shape[1]"
   ]
  },
  {
   "cell_type": "code",
   "execution_count": null,
   "metadata": {},
   "outputs": [],
   "source": [
    "# names of selected features\n",
    "feature_names = np.array(X.columns)\n",
    "feature_names[selector.get_support()]"
   ]
  },
  {
   "cell_type": "markdown",
   "metadata": {},
   "source": [
    "#### c) Sequential selection"
   ]
  },
  {
   "cell_type": "code",
   "execution_count": null,
   "metadata": {},
   "outputs": [],
   "source": [
    "# instantiate model\n",
    "model = RandomForestClassifier(n_estimators=100, random_state=0)"
   ]
  },
  {
   "cell_type": "code",
   "execution_count": null,
   "metadata": {},
   "outputs": [],
   "source": [
    "# select features\n",
    "selector = SequentialFeatureSelector(estimator=model, n_features_to_select=10, direction='backward', cv=2)"
   ]
  },
  {
   "cell_type": "code",
   "execution_count": null,
   "metadata": {},
   "outputs": [],
   "source": [
    "selector.fit_transform(X,y)"
   ]
  },
  {
   "cell_type": "code",
   "execution_count": null,
   "metadata": {},
   "outputs": [],
   "source": [
    "# names of features selected\n",
    "feature_names = np.array(X.columns)\n",
    "feature_names[selector.get_support()]"
   ]
  },
  {
   "cell_type": "markdown",
   "metadata": {},
   "source": [
    "### Principal Compoenent Analysis (PCA)"
   ]
  },
  {
   "cell_type": "code",
   "execution_count": null,
   "metadata": {},
   "outputs": [],
   "source": [
    "from sklearn.decomposition import PCA"
   ]
  },
  {
   "cell_type": "code",
   "execution_count": null,
   "metadata": {},
   "outputs": [],
   "source": [
    "# scaling data\n",
    "X_scaled = scaler.fit_transform(X)"
   ]
  },
  {
   "cell_type": "code",
   "execution_count": null,
   "metadata": {},
   "outputs": [],
   "source": [
    "pca = PCA()\n",
    "pca.fit(X_scaled)\n",
    "evr = pca.explained_variance_ratio_"
   ]
  },
  {
   "cell_type": "code",
   "execution_count": null,
   "metadata": {},
   "outputs": [],
   "source": [
    "# visualizing the variance explained by each principal components\n",
    "\n",
    "plt.figure(figsize=(12, 5))\n",
    "plt.plot(range(0, len(evr)), evr.cumsum(), marker=\"o\", linestyle=\"--\")\n",
    "\n",
    "plt.xlabel(\"Number of components\")\n",
    "plt.ylabel(\"Cumulative explained variance\")"
   ]
  }
 ],
 "metadata": {
  "kernelspec": {
   "display_name": "Python 3",
   "language": "python",
   "name": "python3"
  },
  "language_info": {
   "codemirror_mode": {
    "name": "ipython",
    "version": 3
   },
   "file_extension": ".py",
   "mimetype": "text/x-python",
   "name": "python",
   "nbconvert_exporter": "python",
   "pygments_lexer": "ipython3",
   "version": "3.8.3"
  }
 },
 "nbformat": 4,
 "nbformat_minor": 4
}
